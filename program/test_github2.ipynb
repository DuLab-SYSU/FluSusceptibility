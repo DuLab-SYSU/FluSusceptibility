{
 "cells": [
  {
   "cell_type": "code",
   "execution_count": 52,
   "metadata": {},
   "outputs": [],
   "source": [
    "from mlxtend.feature_selection import SequentialFeatureSelector as SFS\n",
    "from sklearn.neighbors import KNeighborsClassifier\n",
    "from mlxtend.data import wine_data\n",
    "from sklearn.model_selection import train_test_split\n",
    "from sklearn.preprocessing import StandardScaler\n",
    "from sklearn.pipeline import make_pipeline\n",
    "import pandas as pd\n",
    "from sklearn.ensemble import RandomForestClassifier\n",
    "from mlxtend.plotting import plot_sequential_feature_selection as plot_sfs\n",
    "from sklearn.model_selection import GridSearchCV\n",
    "from sklearn.metrics import make_scorer, accuracy_score, precision_score, recall_score, f1_score, roc_auc_score\n",
    "from sklearn import model_selection\n",
    "import json\n",
    "from sklearn.model_selection import cross_val_score\n",
    "from sklearn.metrics import classification_report, confusion_matrix\n",
    "import numpy as np\n",
    "from sklearn import metrics\n",
    "import matplotlib.pyplot as plt\n",
    "import seaborn as sns\n",
    "from mlxtend.feature_selection import ExhaustiveFeatureSelector as EFS\n",
    "import random\n",
    "from sklearn.feature_selection import RFECV\n",
    "from sklearn.model_selection import StratifiedKFold\n"
   ]
  },
  {
   "cell_type": "code",
   "execution_count": null,
   "metadata": {},
   "outputs": [],
   "source": [
    "def class_fun(feature,profile,group,test_profile,test_group):#\n",
    "    exp_pre=profile.loc[feature,:]\n",
    "    test_exp_pre=test_profile.loc[feature,]\n",
    "    dat2=exp_pre.stack()\n",
    "    exp=dat2.unstack(0)\n",
    "    dat3=test_exp_pre.stack()\n",
    "    test_exp=dat3.unstack(0)\n",
    "    rf_new = RandomForestClassifier()\n",
    "    rf_new.fit(exp, group)\n",
    "    #prediction = rf_new.predict(test_exp)\n",
    "    #交叉验证，5次准确率\n",
    "    scores = cross_val_score(rf_new, exp, group, cv=5,scoring='accuracy')\n",
    "    #print(scores)\n",
    "    accuracy_value=pd.DataFrame({'accuracy':scores})\n",
    "    mean_acc=accuracy_value.loc[:,'accuracy'].mean()\n",
    "    #print(mean_acc)\n",
    "    #accuracy_selection.append(accuracy_score(prediction, test_group))\n",
    "    #cvs_selection.append(np.mean(scores))\n",
    "    ##train_roc\n",
    "    y_score = rf_new.predict_proba(exp)[:,1]\n",
    "    fpr,tpr,threshold = metrics.roc_curve(group, y_score)\n",
    "    roc_auc = metrics.auc(fpr,tpr)\n",
    "    ##test_roc\n",
    "    y_score = rf_new.predict_proba(test_exp)[:,1]\n",
    "    fpr,tpr,threshold = metrics.roc_curve(test_group, y_score)\n",
    "    roc_auc_test = metrics.auc(fpr,tpr)\n",
    "\n",
    "    #print(pred_y_rf_new)\n",
    "    importance=rf_new.feature_importances_\n",
    "    data = { 'gene' : feature, 'importance' :importance }\n",
    "    df = pd.DataFrame(data)\n",
    "    df.loc['ROC']=['ROC',roc_auc]\n",
    "    df.loc['ROC_test']=['ROC_test',roc_auc_test]\n",
    "    df.loc['Mean_accuracy']=['Mean_accuracy',mean_acc]\n",
    "\n",
    "    return df\n",
    "\n",
    "# In[9]:\n",
    "\n",
    "\n",
    "def jurge_fun(x):\n",
    "    if x[7]==x[10]:\n",
    "        y=\"a\"\n",
    "    else:\n",
    "        y=\"b\"\n",
    "    return y\n",
    "\n",
    "def findgene_fun(df1,df2):\n",
    "    module_res=pd.merge(df1,df2,on='gene')\n",
    "    module_res.loc[:,'type'] = module_res.apply(jurge_fun,1)\n",
    "    module_res.loc[:,'id'] = module_res.index\n",
    "    module_res1 =module_res.loc[module_res['type']=='a']\n",
    "    rank_accuracy=module_res1.groupby(['modeuleType']).apply(lambda t: t[(t['Mean_accuracy']==t['Mean_accuracy'].max())])\n",
    "    rank_accuracy1=rank_accuracy.drop(columns=['modeuleType'])\n",
    "    rank_accuracy1.reset_index(inplace=True)\n",
    "    rank_impor=rank_accuracy1.groupby(['modeuleType']).apply(lambda t: t[(t['Rank']==t['Rank'].max())])\n",
    "    rank_impor1=rank_impor.drop(columns=['modeuleType','level_1'])\n",
    "    rank_impor1.reset_index(inplace=True)\n",
    "    #res_last=pd.merge(module_res,rank_impor1,on='id',how='right')\n",
    "    #print(res_last)\n",
    "    res_last=rank_impor1.loc[:,['gene_pair','modeuleType']]\n",
    "    return res_last.drop_duplicates()\n",
    "\n",
    "def combination_fun(x,profile,group,test_profile,test_group):\n",
    "    #gene_all=[]\n",
    "    all_value=pd.DataFrame({'gene_pair':[],'gene':[],'importance':[],'Rank':[],'roc':[],'roc_test':[],'module_two_genes':[],\n",
    "                            'iteration1':[],'iteration2':[]})\n",
    "    module=x.iloc[:,1].drop_duplicates().values.tolist()\n",
    "    for mm in module:\n",
    "        #print(mm)\n",
    "        gene_module=x.loc[x['modeuleType'] != mm].gene.tolist()\n",
    "        #print(gene_module)\n",
    "        y=x[x.modeuleType.isin([mm])].gene\n",
    "        for i in range(0,len(y)-1):\n",
    "            for j in range(i+1,len(y)):\n",
    "                gene=[y[i],y[j]]\n",
    "                gene_all=gene_module+gene\n",
    "                #print(gene_all)\n",
    "                class_results=class_fun(gene_all,profile,group,test_profile,test_group)#\n",
    "                roc=class_results.loc['ROC'].importance\n",
    "                roc_test=class_results.loc['ROC_test'].importance\n",
    "                mean_acc=class_results.loc['Mean_accuracy'].importance\n",
    "                gene_importance=class_results.drop(index=[\"ROC\",\"ROC_test\",\"Mean_accuracy\"])\n",
    "                gene_importance['Rank'] = gene_importance['importance'].rank(method=\"average\")\n",
    "\n",
    "                #gene_all=gene_all.append(gene_importance)\n",
    "                #roc_all.extend([roc])\n",
    "                valuedf=pd.DataFrame({'gene_pair':'_'.join(gene),'gene':gene_importance.gene,'importance':gene_importance.importance,\n",
    "                                      'Rank':gene_importance.Rank,\n",
    "                                          'Mean_accuracy':mean_acc,\n",
    "                                          'roc':roc,'roc_test':roc_test,'module_two_genes':mm\n",
    "                                          ,'iteration1':i,'iteration2':j})\n",
    "                all_value=pd.concat([valuedf,all_value])\n",
    "    gene_all=findgene_fun(all_value,x)\n",
    "                #print(gene)\n",
    "    all_value.to_csv('all_value_com_moremodule.csv')\n",
    "#print(gene_all)\n",
    "    return gene_all\n",
    "\n",
    "# In[ ]:\n",
    "gene_module=pd.DataFrame(pd.read_csv('dm_inter_gene_module_train_most.csv'\n",
    "                                      ,header=0,index_col=0))\n",
    "\n",
    "#read data\n",
    "dat=pd.DataFrame(pd.read_csv('dm_inter_train_most.csv',header=0,index_col=0))\n",
    "group=[ 1, 0, 0, 0, 1, 1, 1, 1, 0, 1, 1, 1, 0, 0, 0, 0, 1, 0, 0, 0, 1, 1, 1, 1, 0, 1, 0, 1, 1, 0, 1, 0, 0]\n",
    "\n",
    "dat1=pd.DataFrame(pd.read_csv('dm_inter_test_most.csv',header=0,index_col=0))\n",
    "####group\n",
    "y_test=[1, 1, 0, 1, 0, 1, 1, 0]\n",
    "\n",
    "\n",
    "# gene_last=[]\n",
    "# for i in range(1,100):\n",
    "#     print(i)\n",
    "#     gene_all=combination_fun(gene_module,dat,group,dat1,y_test)\n",
    "    #gene_all=findgene_fun(tt,gene_module)\n",
    "#     gene_last.append(gene_all)\n",
    "\n",
    "\n",
    "arg_l = [(gene_module, dat, group, dat1, y_test) for i in range(1000)]\n",
    "\n",
    "with Pool(48) as pool:\n",
    "    res=pool.starmap(combination_fun, arg_l)\n",
    "    pool.close()\n",
    "    pool.join()\n",
    "\n",
    "#gene_list = list(np.ravel(res))\n",
    "#def flat(a):\n",
    "#    l=[]\n",
    "#    for i in a:\n",
    "#        if type(i) is list:\n",
    "#            for j in i:\n",
    "#                l.append(j)\n",
    "#        else:\n",
    "#            l.append(i)\n",
    "#    return(l)\n",
    "#gene_list = flat(res)\n",
    "#print(gene_list)\n",
    "#gene_count=Counter(gene_list)\n",
    "#gene_count_all=pd.DataFrame.from_dict(gene_count,orient='index',columns=['count']).reset_index()\n",
    "\n",
    "def flat(a):\n",
    "    l=pd.DataFrame({'gene_pair':[],'modeuleType':[]})\n",
    "    for i in a:\n",
    "        l=pd.concat([l,i])\n",
    "    return(l)\n",
    "\n",
    "gene_list = flat(res)\n",
    "print(gene_list)\n",
    "type(gene_list)\n",
    "\n",
    "\n",
    "tt=gene_list.groupby('modeuleType').value_counts()\n",
    "#print(type(tt))\n",
    "tt=tt.reset_index()\n",
    "tt.columns = ['moduleType','gene_pair','count']\n",
    "tt.to_csv('gene_count_all_moremodule.csv')\n",
    "\n",
    "#gene_count_all.to_csv('gene_count_all_moremodule.csv')\n"
   ]
  },
  {
   "cell_type": "code",
   "execution_count": 106,
   "metadata": {},
   "outputs": [],
   "source": [
    "gene_count_all=pd.DataFrame(pd.read_csv('gene_count_all_moremodule.csv',header=0,index_col=0))\n",
    "gene_count_all.sort_values(by=\"count\",ascending=False,inplace=True)"
   ]
  },
  {
   "cell_type": "code",
   "execution_count": 149,
   "metadata": {},
   "outputs": [
    {
     "name": "stdout",
     "output_type": "stream",
     "text": [
      "        moduleType       gene_pair  count\n",
      "70  MEMidnightblue   RNASE6_COL9A3    144\n",
      "87           METan     HLA-DOB_CD9    144\n",
      "88           METan  HLA-DOB_CORO2B    119\n",
      "71  MEMidnightblue     CSTA_GLIPR1    118\n",
      "0          MEBlack    TGFB1I1_PPBP     96\n",
      "24         MEGreen     ALPL_BCL2A1     96\n",
      "1          MEBlack      JUP_ADORA3     96\n",
      "46       MEMagenta   SLC16A6_UBE2W     96\n",
      "47       MEMagenta      NFAT5_KRAS     96\n",
      "25         MEGreen        VNN1_ADM     70\n"
     ]
    }
   ],
   "source": [
    "print(gene_count_all.groupby('moduleType').head(2))"
   ]
  },
  {
   "cell_type": "code",
   "execution_count": 152,
   "metadata": {},
   "outputs": [],
   "source": [
    "gene_all=['HLA-DOB','RNASE6','CD9','TGFB1I1','JUP','ADORA3','NFAT5','KRAS','PPBP','ALPL','BCL2A1','SLC16A6','UBE2W','COL9A3']#gene_count_all.sort_values(by=\"count\",ascending=False)"
   ]
  },
  {
   "cell_type": "code",
   "execution_count": 156,
   "metadata": {},
   "outputs": [
    {
     "name": "stdout",
     "output_type": "stream",
     "text": [
      "                        gene  importance\n",
      "0                    HLA-DOB    0.184691\n",
      "1                     RNASE6    0.058414\n",
      "2                        CD9    0.048856\n",
      "3                    TGFB1I1    0.072613\n",
      "4                        JUP    0.068060\n",
      "5                     ADORA3    0.066843\n",
      "6                      NFAT5    0.058124\n",
      "7                       KRAS    0.102081\n",
      "8                       PPBP    0.035557\n",
      "9                       ALPL    0.057354\n",
      "10                    BCL2A1    0.043681\n",
      "11                   SLC16A6    0.104561\n",
      "12                     UBE2W    0.063904\n",
      "13                    COL9A3    0.035261\n",
      "ROC                      ROC    1.000000\n",
      "ROC_test            ROC_test    0.733333\n",
      "Mean_accuracy  Mean_accuracy    0.904762\n"
     ]
    }
   ],
   "source": [
    "test=class_fun(gene_all,dat,group,dat1,y_test)\n",
    "print(test)"
   ]
  },
  {
   "cell_type": "code",
   "execution_count": 157,
   "metadata": {},
   "outputs": [],
   "source": [
    "feature=gene_all#[\"ATP6V1D\",\"HLA-DOB\"]#\n",
    "profile=dat\n",
    "group=group\n",
    "test_profile=dat1\n",
    "test_group=y_test"
   ]
  },
  {
   "cell_type": "code",
   "execution_count": 172,
   "metadata": {},
   "outputs": [
    {
     "data": {
      "text/html": [
       "<style>#sk-container-id-17 {color: black;background-color: white;}#sk-container-id-17 pre{padding: 0;}#sk-container-id-17 div.sk-toggleable {background-color: white;}#sk-container-id-17 label.sk-toggleable__label {cursor: pointer;display: block;width: 100%;margin-bottom: 0;padding: 0.3em;box-sizing: border-box;text-align: center;}#sk-container-id-17 label.sk-toggleable__label-arrow:before {content: \"▸\";float: left;margin-right: 0.25em;color: #696969;}#sk-container-id-17 label.sk-toggleable__label-arrow:hover:before {color: black;}#sk-container-id-17 div.sk-estimator:hover label.sk-toggleable__label-arrow:before {color: black;}#sk-container-id-17 div.sk-toggleable__content {max-height: 0;max-width: 0;overflow: hidden;text-align: left;background-color: #f0f8ff;}#sk-container-id-17 div.sk-toggleable__content pre {margin: 0.2em;color: black;border-radius: 0.25em;background-color: #f0f8ff;}#sk-container-id-17 input.sk-toggleable__control:checked~div.sk-toggleable__content {max-height: 200px;max-width: 100%;overflow: auto;}#sk-container-id-17 input.sk-toggleable__control:checked~label.sk-toggleable__label-arrow:before {content: \"▾\";}#sk-container-id-17 div.sk-estimator input.sk-toggleable__control:checked~label.sk-toggleable__label {background-color: #d4ebff;}#sk-container-id-17 div.sk-label input.sk-toggleable__control:checked~label.sk-toggleable__label {background-color: #d4ebff;}#sk-container-id-17 input.sk-hidden--visually {border: 0;clip: rect(1px 1px 1px 1px);clip: rect(1px, 1px, 1px, 1px);height: 1px;margin: -1px;overflow: hidden;padding: 0;position: absolute;width: 1px;}#sk-container-id-17 div.sk-estimator {font-family: monospace;background-color: #f0f8ff;border: 1px dotted black;border-radius: 0.25em;box-sizing: border-box;margin-bottom: 0.5em;}#sk-container-id-17 div.sk-estimator:hover {background-color: #d4ebff;}#sk-container-id-17 div.sk-parallel-item::after {content: \"\";width: 100%;border-bottom: 1px solid gray;flex-grow: 1;}#sk-container-id-17 div.sk-label:hover label.sk-toggleable__label {background-color: #d4ebff;}#sk-container-id-17 div.sk-serial::before {content: \"\";position: absolute;border-left: 1px solid gray;box-sizing: border-box;top: 0;bottom: 0;left: 50%;z-index: 0;}#sk-container-id-17 div.sk-serial {display: flex;flex-direction: column;align-items: center;background-color: white;padding-right: 0.2em;padding-left: 0.2em;position: relative;}#sk-container-id-17 div.sk-item {position: relative;z-index: 1;}#sk-container-id-17 div.sk-parallel {display: flex;align-items: stretch;justify-content: center;background-color: white;position: relative;}#sk-container-id-17 div.sk-item::before, #sk-container-id-17 div.sk-parallel-item::before {content: \"\";position: absolute;border-left: 1px solid gray;box-sizing: border-box;top: 0;bottom: 0;left: 50%;z-index: -1;}#sk-container-id-17 div.sk-parallel-item {display: flex;flex-direction: column;z-index: 1;position: relative;background-color: white;}#sk-container-id-17 div.sk-parallel-item:first-child::after {align-self: flex-end;width: 50%;}#sk-container-id-17 div.sk-parallel-item:last-child::after {align-self: flex-start;width: 50%;}#sk-container-id-17 div.sk-parallel-item:only-child::after {width: 0;}#sk-container-id-17 div.sk-dashed-wrapped {border: 1px dashed gray;margin: 0 0.4em 0.5em 0.4em;box-sizing: border-box;padding-bottom: 0.4em;background-color: white;}#sk-container-id-17 div.sk-label label {font-family: monospace;font-weight: bold;display: inline-block;line-height: 1.2em;}#sk-container-id-17 div.sk-label-container {text-align: center;}#sk-container-id-17 div.sk-container {/* jupyter's `normalize.less` sets `[hidden] { display: none; }` but bootstrap.min.css set `[hidden] { display: none !important; }` so we also need the `!important` here to be able to override the default hidden behavior on the sphinx rendered scikit-learn.org. See: https://github.com/scikit-learn/scikit-learn/issues/21755 */display: inline-block !important;position: relative;}#sk-container-id-17 div.sk-text-repr-fallback {display: none;}</style><div id=\"sk-container-id-17\" class=\"sk-top-container\"><div class=\"sk-text-repr-fallback\"><pre>RandomForestClassifier()</pre><b>In a Jupyter environment, please rerun this cell to show the HTML representation or trust the notebook. <br />On GitHub, the HTML representation is unable to render, please try loading this page with nbviewer.org.</b></div><div class=\"sk-container\" hidden><div class=\"sk-item\"><div class=\"sk-estimator sk-toggleable\"><input class=\"sk-toggleable__control sk-hidden--visually\" id=\"sk-estimator-id-17\" type=\"checkbox\" checked><label for=\"sk-estimator-id-17\" class=\"sk-toggleable__label sk-toggleable__label-arrow\">RandomForestClassifier</label><div class=\"sk-toggleable__content\"><pre>RandomForestClassifier()</pre></div></div></div></div></div>"
      ],
      "text/plain": [
       "RandomForestClassifier()"
      ]
     },
     "execution_count": 172,
     "metadata": {},
     "output_type": "execute_result"
    }
   ],
   "source": [
    "exp_pre=profile.loc[feature,:]\n",
    "test_exp_pre=test_profile.loc[feature,]\n",
    "dat2=exp_pre.stack()\n",
    "exp=dat2.unstack(0)\n",
    "dat3=test_exp_pre.stack()\n",
    "test_exp=dat3.unstack(0)\n",
    "rf_new = RandomForestClassifier()\n",
    "rf_new.fit(exp, group)\n",
    "    "
   ]
  },
  {
   "cell_type": "code",
   "execution_count": 173,
   "metadata": {},
   "outputs": [
    {
     "name": "stdout",
     "output_type": "stream",
     "text": [
      "0.9\n",
      "                        gene  importance\n",
      "0                    HLA-DOB    0.198743\n",
      "1                     RNASE6    0.037751\n",
      "2                        CD9    0.027673\n",
      "3                    TGFB1I1    0.078291\n",
      "4                        JUP    0.060165\n",
      "5                     ADORA3    0.102873\n",
      "6                      NFAT5    0.071584\n",
      "7                       KRAS    0.064828\n",
      "8                       PPBP    0.032999\n",
      "9                       ALPL    0.067027\n",
      "10                    BCL2A1    0.048004\n",
      "11                   SLC16A6    0.101193\n",
      "12                     UBE2W    0.076031\n",
      "13                    COL9A3    0.032838\n",
      "ROC                      ROC    1.000000\n",
      "ROC_test            ROC_test    0.733333\n",
      "Mean_accuracy  Mean_accuracy    0.900000\n"
     ]
    }
   ],
   "source": [
    "scores = cross_val_score(rf_new, exp, group, cv=5,scoring='accuracy')\n",
    "    #print(scores)\n",
    "accuracy_value=pd.DataFrame({'accuracy':scores})\n",
    "mean_acc=accuracy_value.loc[:,'accuracy'].mean()\n",
    "print(mean_acc)\n",
    "    #accuracy_selection.append(accuracy_score(prediction, test_group))\n",
    "    #cvs_selection.append(np.mean(scores))\n",
    "    ##train_roc\n",
    "y_score = rf_new.predict_proba(exp)[:,1]\n",
    "fpr,tpr,threshold = metrics.roc_curve(group, y_score)\n",
    "roc_auc = metrics.auc(fpr,tpr)\n",
    "    ##test_roc\n",
    "y_score = rf_new.predict_proba(test_exp)[:,1]\n",
    "fpr,tpr,threshold = metrics.roc_curve(test_group, y_score)\n",
    "roc_auc_test = metrics.auc(fpr,tpr)\n",
    "    \n",
    "    #print(pred_y_rf_new)\n",
    "importance=rf_new.feature_importances_\n",
    "data = { 'gene' : feature, 'importance' :importance }\n",
    "df = pd.DataFrame(data)\n",
    "df.loc['ROC']=['ROC',roc_auc]\n",
    "df.loc['ROC_test']=['ROC_test',roc_auc_test]\n",
    "df.loc['Mean_accuracy']=['Mean_accuracy',mean_acc]\n",
    "print(df)"
   ]
  },
  {
   "cell_type": "code",
   "execution_count": 174,
   "metadata": {},
   "outputs": [
    {
     "data": {
      "text/plain": [
       "array([0.53, 0.75, 0.47, 0.32, 0.1 , 0.55, 0.77, 0.71])"
      ]
     },
     "execution_count": 174,
     "metadata": {},
     "output_type": "execute_result"
    }
   ],
   "source": [
    "y_score"
   ]
  },
  {
   "cell_type": "code",
   "execution_count": 135,
   "metadata": {},
   "outputs": [
    {
     "data": {
      "text/plain": [
       "[1, 1, 0, 1, 0, 1, 1, 0]"
      ]
     },
     "execution_count": 135,
     "metadata": {},
     "output_type": "execute_result"
    }
   ],
   "source": [
    "test_group"
   ]
  },
  {
   "cell_type": "code",
   "execution_count": 136,
   "metadata": {},
   "outputs": [
    {
     "name": "stdout",
     "output_type": "stream",
     "text": [
      "{'fit_time': array([0.11368012, 0.08275628, 0.0797801 , 0.07751775, 0.08355832]), 'score_time': array([0.01103044, 0.010005  , 0.01028824, 0.01066399, 0.00994277]), 'test_accuracy': array([0.85714286, 0.85714286, 1.        , 0.66666667, 0.83333333]), 'test_roc_auc': array([0.875     , 0.83333333, 1.        , 0.66666667, 0.83333333]), 'test_precision': array([1. , 0.8, 1. , 0.6, 1. ]), 'test_recall': array([0.75      , 1.        , 1.        , 1.        , 0.66666667]), 'test_f1_score': array([0.85714286, 0.88888889, 1.        , 0.75      , 0.8       ])}\n"
     ]
    }
   ],
   "source": [
    "scoring = {'accuracy': make_scorer(accuracy_score),\n",
    "               'roc_auc': make_scorer(roc_auc_score),\n",
    "               'precision': make_scorer(precision_score),\n",
    "               'recall': make_scorer(recall_score),\n",
    "               'f1_score': make_scorer(f1_score)}\n",
    "rf_cv_score = model_selection.cross_validate(rf_new, exp, group, cv=5, scoring=scoring)\n",
    "print(rf_cv_score)\n"
   ]
  },
  {
   "cell_type": "code",
   "execution_count": 137,
   "metadata": {},
   "outputs": [
    {
     "name": "stdout",
     "output_type": "stream",
     "text": [
      "0.80952381\n",
      "0.8083333319999999\n",
      "0.8800000000000001\n",
      "0.8166666680000001\n",
      "0.81920635\n"
     ]
    }
   ],
   "source": [
    "acc=(0.85714286+ 0.85714286+0.83333333+ 0.66666667+ 0.83333333)/5\n",
    "print(acc)\n",
    "roc_auc=(0.875 +0.83333333+0.83333333+ 0.66666667+ 0.83333333)/5\n",
    "print(roc_auc)\n",
    "preci=(1. +0.8+1. + 0.6+1.)/5\n",
    "print(preci)\n",
    "recall=(0.75   +1. +0.66666667+1. +0.66666667)/5\n",
    "print(recall)\n",
    "f1=(0.85714286+ 0.88888889+ 0.8 + 0.75 + 0.8 )/5\n",
    "print(f1)"
   ]
  },
  {
   "cell_type": "code",
   "execution_count": 30,
   "metadata": {},
   "outputs": [
    {
     "name": "stdout",
     "output_type": "stream",
     "text": [
      "[0.34 0.79 0.28 0.39 0.05 0.32 0.89 0.7 ]\n",
      "[1, 1, 0, 1, 0, 1, 1, 0]\n",
      "[0.  0.2 0.4 0.4 1.  1. ]\n",
      "[0.         0.         0.         0.33333333 0.33333333 1.        ]\n",
      "0.8\n"
     ]
    }
   ],
   "source": [
    "print(y_score)\n",
    "print(y_test)\n",
    "print(tpr)\n",
    "print(fpr)\n",
    "print(roc_auc)\n"
   ]
  }
 ],
 "metadata": {
  "kernelspec": {
   "display_name": "Python 3",
   "language": "python",
   "name": "python3"
  },
  "language_info": {
   "codemirror_mode": {
    "name": "ipython",
    "version": 3
   },
   "file_extension": ".py",
   "mimetype": "text/x-python",
   "name": "python",
   "nbconvert_exporter": "python",
   "pygments_lexer": "ipython3",
   "version": "3.9.7"
  }
 },
 "nbformat": 4,
 "nbformat_minor": 4
}
