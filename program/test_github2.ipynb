{
 "cells": [
  {
   "cell_type": "code",
   "execution_count": 2,
   "metadata": {},
   "outputs": [],
   "source": [
    "#!/usr/bin/env python\n",
    "# coding: utf-8\n",
    "\n",
    "\n",
    "from mlxtend.feature_selection import SequentialFeatureSelector as SFS\n",
    "from sklearn.neighbors import KNeighborsClassifier\n",
    "from mlxtend.data import wine_data\n",
    "from sklearn.model_selection import train_test_split\n",
    "from sklearn.preprocessing import StandardScaler\n",
    "from sklearn.pipeline import make_pipeline\n",
    "import pandas as pd\n",
    "from sklearn.ensemble import RandomForestClassifier\n",
    "from mlxtend.plotting import plot_sequential_feature_selection as plot_sfs\n",
    "from sklearn.model_selection import GridSearchCV\n",
    "from sklearn.metrics import make_scorer, accuracy_score, precision_score, recall_score, f1_score, roc_auc_score\n",
    "from sklearn import model_selection\n",
    "import json\n",
    "from sklearn.model_selection import cross_val_score\n",
    "from sklearn.metrics import classification_report, confusion_matrix\n",
    "import numpy as np\n",
    "from sklearn import metrics\n",
    "import matplotlib.pyplot as plt\n",
    "import seaborn as sns\n",
    "from mlxtend.feature_selection import ExhaustiveFeatureSelector as EFS\n",
    "import random\n",
    "from sklearn.feature_selection import RFECV\n",
    "from sklearn.model_selection import StratifiedKFold\n",
    "from multiprocessing import Pool\n",
    "from collections import Counter\n",
    "\n",
    "def class_fun(feature,profile,group):#\n",
    "    exp_pre=profile.loc[feature,:]\n",
    "    #test_exp_pre=test_profile.loc[feature,]\n",
    "    dat2=exp_pre.stack()\n",
    "    exp=dat2.unstack(0)\n",
    "    #dat3=test_exp_pre.stack()\n",
    "    #test_exp=dat3.unstack(0)\n",
    "    rf_new = RandomForestClassifier(class_weight=\"balanced\")\n",
    "    rf_new.fit(exp, group)\n",
    "    #prediction = rf_new.predict(test_exp)\n",
    "    #交叉验证，5次准确率\n",
    "    scores = cross_val_score(rf_new, exp, group, cv=5,scoring='accuracy')\n",
    "    #print(scores)\n",
    "    accuracy_value=pd.DataFrame({'accuracy':scores})\n",
    "    mean_acc=accuracy_value.loc[:,'accuracy'].mean()\n",
    "    #print(mean_acc)\n",
    "    #accuracy_selection.append(accuracy_score(prediction, test_group))\n",
    "    #cvs_selection.append(np.mean(scores))\n",
    "    ##train_roc\n",
    "    y_score = rf_new.predict_proba(exp)[:,1]\n",
    "    fpr,tpr,threshold = metrics.roc_curve(group, y_score)\n",
    "    roc_auc = metrics.auc(fpr,tpr)\n",
    "    ##test_roc\n",
    "    #y_score = rf_new.predict_proba(test_exp)[:,1]\n",
    "    #fpr,tpr,threshold = metrics.roc_curve(test_group, y_score)\n",
    "    #roc_auc_test = metrics.auc(fpr,tpr)\n",
    "\n",
    "    #print(pred_y_rf_new)\n",
    "    importance=rf_new.feature_importances_\n",
    "    data = { 'gene' : feature, 'importance' :importance }\n",
    "    df = pd.DataFrame(data)\n",
    "    df.loc['ROC']=['ROC',roc_auc]\n",
    "    #df.loc['ROC_test']=['ROC_test',roc_auc_test]\n",
    "    df.loc['Mean_accuracy']=['Mean_accuracy',mean_acc]\n",
    "\n",
    "    return df\n",
    "\n",
    "def combination_fun(x,profile,group):\n",
    "    #gene_all=[]\n",
    "    all_value=pd.DataFrame({'gene_pair':[],'gene':[],'importance':[],'Rank':[],'roc':[],'module_two_genes':[],\n",
    "                            'iteration1':[],'iteration2':[]})\n",
    "    module=x.iloc[:,1].drop_duplicates().values.tolist()\n",
    "    for mm in module:\n",
    "        print(mm)\n",
    "        gene_module=x.loc[x['modeuleType'] != mm].gene.tolist()\n",
    "        #print(gene_module)\n",
    "        y=x[x.modeuleType.isin([mm])].gene\n",
    "        if len(y)<=1:\n",
    "            gene=[y[0]]\n",
    "            gene_all=gene_module+gene\n",
    "            class_results=class_fun(gene_all,profile,group)#\n",
    "            roc=class_results.loc['ROC'].importance\n",
    "                #roc_test=class_results.loc['ROC_test'].importance\n",
    "            mean_acc=class_results.loc['Mean_accuracy'].importance\n",
    "            gene_importance=class_results.drop(index=[\"ROC\",\"Mean_accuracy\"])\n",
    "            gene_importance['Rank'] = gene_importance['importance'].rank(method=\"average\")\n",
    "\n",
    "                #gene_all=gene_all.append(gene_importance)\n",
    "                #roc_all.extend([roc])\n",
    "            valuedf=pd.DataFrame({'gene_pair':'_'.join(gene),'gene':gene_importance.gene,'importance':gene_importance.importance,\n",
    "                                      'Rank':gene_importance.Rank,\n",
    "                                          'Mean_accuracy':mean_acc,\n",
    "                                          'roc':roc,'module_two_genes':mm\n",
    "                                          ,'iteration1':1,'iteration2':1})\n",
    "            all_value=pd.concat([valuedf,all_value])\n",
    "        else:\n",
    "            for i in range(0,len(y)-1):\n",
    "                for j in range(i+1,len(y)):\n",
    "                    gene=[y[i],y[j]]\n",
    "                    gene_all=gene_module+gene\n",
    "                    #print(gene_all)\n",
    "                    class_results=class_fun(gene_all,profile,group)#\n",
    "                    roc=class_results.loc['ROC'].importance\n",
    "                    #roc_test=class_results.loc['ROC_test'].importance\n",
    "                    mean_acc=class_results.loc['Mean_accuracy'].importance\n",
    "                    gene_importance=class_results.drop(index=[\"ROC\",\"Mean_accuracy\"])\n",
    "                    gene_importance['Rank'] = gene_importance['importance'].rank(method=\"average\")\n",
    "\n",
    "                    #gene_all=gene_all.append(gene_importance)\n",
    "                    #roc_all.extend([roc])\n",
    "                    valuedf=pd.DataFrame({'gene_pair':'_'.join(gene),'gene':gene_importance.gene,'importance':gene_importance.importance,\n",
    "                                      'Rank':gene_importance.Rank,\n",
    "                                          'Mean_accuracy':mean_acc,\n",
    "                                          'roc':roc,'module_two_genes':mm\n",
    "                                          ,'iteration1':i,'iteration2':j})\n",
    "                    all_value=pd.concat([valuedf,all_value])\n",
    "                #print(gene)\n",
    "    gene_all=findgene_fun(all_value,x)\n",
    "    all_value.to_csv('all_value_com_train_notest.csv')\n",
    "#print(gene_all)\n",
    "    return gene_all\n",
    "\n",
    "\n",
    "\n",
    "def jurge_fun(x):\n",
    "    if x[6]==x[9]:\n",
    "        y=\"a\"\n",
    "    else:\n",
    "        y=\"b\"\n",
    "    return y\n",
    "\n",
    "def findgene_fun(df1,df2):\n",
    "    module_res=pd.merge(df1,df2,on='gene')\n",
    "    module_res.loc[:,'type'] = module_res.apply(jurge_fun,1)\n",
    "    module_res.loc[:,'id'] = module_res.index\n",
    "    module_res1 =module_res.loc[module_res['type']=='a']\n",
    "    rank_accuracy=module_res1.groupby(['modeuleType']).apply(lambda t: t[(t['Mean_accuracy']==t['Mean_accuracy'].max())])\n",
    "    rank_accuracy1=rank_accuracy.drop(columns=['modeuleType'])\n",
    "    rank_accuracy1.reset_index(inplace=True)\n",
    "    rank_impor=rank_accuracy1.groupby(['modeuleType']).apply(lambda t: t[(t['Rank']==t['Rank'].max())])\n",
    "    rank_impor1=rank_impor.drop(columns=['modeuleType','level_1'])\n",
    "    rank_impor1.reset_index(inplace=True)\n",
    "    #res_last=pd.merge(module_res,rank_impor1,on='id',how='right')\n",
    "    #print(res_last['gene_x'])\n",
    "    res_last=rank_impor1.loc[:,['gene_pair','modeuleType']]\n",
    "    return res_last.drop_duplicates()\n",
    "\n",
    "\n",
    "#read data\n",
    "#dat=pd.DataFrame(pd.read_csv('D:/wrok/flu_paper/data/result2/result_new/h3n2_train.csv',header=0,index_col=0))\n",
    "dat=pd.DataFrame(pd.read_csv('dm_inter_train1113.csv',header=0,index_col=0))\n",
    "#dat=pd.DataFrame(pd.read_csv('D:/wrok/flu_paper/data/result2/result_new/deg_expression_limma.csv',header=0,index_col=0))\n",
    "#h3n2_group=pd.DataFrame(pd.read_csv('D:/wrok/flu_paper/data/result2/result_new/h3n2_group_all.csv',header=0,index_col=0))\n",
    "gene=dat.index.tolist()\n",
    "#dat1=dat.iloc[:,2:74]\n",
    "dat2=dat.stack()\n",
    "\n",
    "expression=dat2.unstack(0)\n",
    "print(expression.shape)\n",
    "\n",
    "####group\n",
    "#group=[1, 1, 1, 1, 1, 1, 1, 1, 0, 0, 0, 0, 0, 0, 0, 0, 1, 1, 1, 1, 1, 1, 1, 1, 1, 0, 0, 0, 0, 0, 0, 0, 1, 1, 1, 1, 1, 0, 0, 0]\n",
    "#group=[1, 1, 1, 1, 1, 1, 1, 1, 0, 0, 0, 0, 0, 0, 0, 0, 1, 1, 1, 1, 1, 1, 1, 1, 1, 0, 0, 0, 0, 0, 0, 0, 0, 1, 1, 1, 1, 1, 0, 0, 0]\n",
    "group=[ 1 ,0, 0, 0, 1, 1, 1, 1, 0, 1, 0, 1, 1, 0, 1, 0, 0, 1, 1, 1, 1, 0, 1, 0, 1, 1, 0, 0, 0, 0, 0, 1, 1, 0, 1, 1, 1, 1]\n",
    "\n",
    "print(len(group))\n",
    "\n",
    "\n",
    "gene_module=pd.DataFrame(pd.read_csv('dm_inter_gene_module_train1113.csv'\n",
    "                                      ,header=0,index_col=0))\n",
    "print(gene_module.shape)\n",
    "#last_iteration=circle_fun(500,gene_module,dat,group)#\n",
    "arg_l = [(gene_module, dat, group) for i in range(1000)]\n",
    "\n",
    "with Pool(72) as pool:\n",
    "    res=pool.starmap(combination_fun, arg_l)\n",
    "    pool.close()\n",
    "    pool.join()\n",
    "\n",
    "#def flat(a):\n",
    "#    l=[]\n",
    "#    for i in a:\n",
    "#        if type(i) is list:\n",
    "#            for j in i:\n",
    "#                l.append(j)\n",
    "#        else:\n",
    "#            l.append(i)\n",
    "#    return(l)\n",
    "#gene_list = flat(res)\n",
    "#print(gene_list)\n",
    "#gene_count=Counter(gene_list)\n",
    "#gene_count_all=pd.DataFrame.from_dict(gene_count,orient='index',columns=['count']).reset_index()\n",
    "\n",
    "def flat(a):\n",
    "    l=pd.DataFrame({'gene_pair':[],'modeuleType':[]})\n",
    "    for i in a:\n",
    "        l=pd.concat([l,i])\n",
    "    return(l)\n",
    "\n",
    "gene_list = flat(res)\n",
    "print(gene_list)\n",
    "type(gene_list)\n",
    "\n",
    "\n",
    "tt=gene_list.groupby('modeuleType').value_counts()\n",
    "#print(type(tt))\n",
    "tt=tt.reset_index()\n",
    "tt.columns = ['moduleType','gene_pair','count']\n",
    "tt.to_csv('gene_count_train_notest1113.csv')\n",
    "\n"
   ]
  },
  {
   "cell_type": "code",
   "execution_count": 7,
   "metadata": {},
   "outputs": [
    {
     "name": "stdout",
     "output_type": "stream",
     "text": [
      "(38, 119)\n",
      "38\n"
     ]
    }
   ],
   "source": [
    "#read data\n",
    "#dat=pd.DataFrame(pd.read_csv('D:/wrok/flu_paper/data/result2/result_new/h3n2_train.csv',header=0,index_col=0))\n",
    "dat=pd.DataFrame(pd.read_csv('/home/dulab/Documents/wrok/flu_paper/data/result_fi/dm_inter_train1113.csv',header=0,index_col=0))\n",
    "#dat=pd.DataFrame(pd.read_csv('D:/wrok/flu_paper/data/result2/result_new/deg_expression_limma.csv',header=0,index_col=0))\n",
    "#h3n2_group=pd.DataFrame(pd.read_csv('D:/wrok/flu_paper/data/result2/result_new/h3n2_group_all.csv',header=0,index_col=0))\n",
    "gene=dat.index.tolist()\n",
    "#dat1=dat.iloc[:,2:74]\n",
    "dat2=dat.stack()\n",
    "\n",
    "expression=dat2.unstack(0)\n",
    "print(expression.shape)\n",
    "\n",
    "####group\n",
    "#group=[1, 1, 1, 1, 1, 1, 1, 1, 0, 0, 0, 0, 0, 0, 0, 0, 1, 1, 1, 1, 1, 1, 1, 1, 1, 0, 0, 0, 0, 0, 0, 0, 1, 1, 1, 1, 1, 0, 0, 0]\n",
    "#group=[1, 1, 1, 1, 1, 1, 1, 1, 0, 0, 0, 0, 0, 0, 0, 0, 1, 1, 1, 1, 1, 1, 1, 1, 1, 0, 0, 0, 0, 0, 0, 0, 0, 1, 1, 1, 1, 1, 0, 0, 0]\n",
    "group=[ 1 ,0 ,0 ,0 ,1, 1, 1, 1, 0, 1, 0, 1 ,1, 0, 1, 0, 0, 1, 1, 1, 1, 0, 1, 0, 1, 1, 0, 0, 0, 0, 0, 1, 1, 0, 1, 1, 1, 1]\n",
    "\n",
    "print(len(group))\n",
    "\n",
    "dat1=pd.DataFrame(pd.read_csv('/home/dulab/Documents/wrok/flu_paper/data/result_fi/dm_inter_test1113.csv',header=0,index_col=0))\n",
    "####group\n",
    "y_test=[1, 1, 1, 0, 1, 0, 1, 1, 1, 0, 1]"
   ]
  },
  {
   "cell_type": "code",
   "execution_count": 6,
   "metadata": {},
   "outputs": [
    {
     "data": {
      "text/plain": [
       "<bound method NDFrame.head of          GSM1513487  GSM1513491  GSM1513495  GSM1513499  GSM1513503  \\\n",
       "RPS4Y1     8.325116    7.768840   11.206015    7.643015    7.487843   \n",
       "KDM5D      6.974310    6.797219    8.699331    6.740207    7.110488   \n",
       "PRKY       6.234971    6.740194    7.949907    6.119341    6.149198   \n",
       "DDX3Y      5.425697    5.169178    7.658501    6.046776    4.553224   \n",
       "TCL1A      8.777076    8.603942    8.915351    9.894748    9.139836   \n",
       "...             ...         ...         ...         ...         ...   \n",
       "HMBS       9.063445    8.998222    8.842072    9.150825    9.305386   \n",
       "GRINA      9.796184    9.728004   10.000750    9.269736    9.565606   \n",
       "CRAT       8.813764    8.683454    8.631064    8.013767    8.070903   \n",
       "RBM47     10.122007   10.511886   10.301821   10.116721   10.334591   \n",
       "PIP5K1B    7.755360    7.297406    7.123007    7.115093    7.255899   \n",
       "\n",
       "         GSM1513507  GSM1513511  GSM1513515  GSM1513519  GSM1513523  \\\n",
       "RPS4Y1    11.571155   11.206015    7.826609   10.858394   11.559732   \n",
       "KDM5D      9.235621    8.916825    6.979216    8.643530    9.251193   \n",
       "PRKY       8.277832    8.093652    6.189807    8.097461    8.137823   \n",
       "DDX3Y      7.555250    7.079344    4.511777    7.469639    7.497085   \n",
       "TCL1A      9.719914    9.876930    9.359882    8.310420    9.380459   \n",
       "...             ...         ...         ...         ...         ...   \n",
       "HMBS       9.814039    9.081424    9.383131    9.437925    9.267006   \n",
       "GRINA     10.255525    9.887964    9.497004    9.468939    9.842819   \n",
       "CRAT       8.757001    8.590545    8.369519    7.850270    8.611330   \n",
       "RBM47      9.591079   10.067607   10.394366   10.615942    9.838349   \n",
       "PIP5K1B    7.205476    7.520100    7.320345    7.107850    7.031503   \n",
       "\n",
       "         GSM1513527  \n",
       "RPS4Y1     6.855399  \n",
       "KDM5D      5.246565  \n",
       "PRKY       6.735352  \n",
       "DDX3Y      4.621993  \n",
       "TCL1A      9.116147  \n",
       "...             ...  \n",
       "HMBS       9.140257  \n",
       "GRINA     10.153432  \n",
       "CRAT       8.926248  \n",
       "RBM47     10.266686  \n",
       "PIP5K1B    7.526196  \n",
       "\n",
       "[119 rows x 11 columns]>"
      ]
     },
     "execution_count": 6,
     "metadata": {},
     "output_type": "execute_result"
    }
   ],
   "source": [
    "dat1.head"
   ]
  },
  {
   "cell_type": "code",
   "execution_count": 9,
   "metadata": {},
   "outputs": [],
   "source": [
    "gene_count_all=pd.DataFrame(pd.read_csv('/home/dulab/Documents/wrok/flu_paper/data/result_fi/gene_count_train_notest1113.csv',header=0,index_col=0))\n",
    "#gene_count_all=pd.DataFrame(pd.read_csv('/home/dulab/Documents/wrok/flu_paper/data/result_fi/gene_count_all_notest_balanced_noblack.csv',header=0,index_col=0))\n",
    "\n",
    "gene_count_all.sort_values(by=\"count\",ascending=False,inplace=True)"
   ]
  },
  {
   "cell_type": "code",
   "execution_count": 10,
   "metadata": {},
   "outputs": [
    {
     "name": "stdout",
     "output_type": "stream",
     "text": [
      "        moduleType       gene_pair  count\n",
      "37        MEGrey60          TXNDC5   1000\n",
      "16          MECyan  ZWINT_SLC35E2A    318\n",
      "17          MECyan   SLC35E2A_CD93    216\n",
      "0           MEBlue    EZH2_RAP1GAP    178\n",
      "39  MEMidnightblue      EIF1AY_MAK    144\n",
      "38  MEMidnightblue    RPS4Y1_RBM47    144\n",
      "27   MEGreenyellow      VPREB3_DSP     72\n",
      "28   MEGreenyellow    VPREB3_MS4A1     72\n",
      "1           MEBlue       AHSP_AMFR     72\n"
     ]
    }
   ],
   "source": [
    "print(gene_count_all.groupby('moduleType').head(2))"
   ]
  },
  {
   "cell_type": "code",
   "execution_count": 11,
   "metadata": {},
   "outputs": [],
   "source": [
    "gene_all=[\"TXNDC5\",\"ZWINT\",\"SLC35E2A\",\"EZH2\",\"RAP1GAP\",\"EIF1AY\",\"MAK\",\"RPS4Y1\",\"RBM47\",\"VPREB3\",\"DSP\",\"MS4A1\"]\n",
    "          #\"RBM47\",\"PLAAT3\",\"HLA-DOB\",\"CD79B\",\"WNK1\",\"GYPB\",]#['TXNDC5','DHRS9','CD93','OSBPL10','HLA-DOB','PRKY','PLAAT3','PDCD10','GYPB']#gene_count_all.sort_values(by=\"count\",ascending=False)"
   ]
  },
  {
   "cell_type": "code",
   "execution_count": 12,
   "metadata": {},
   "outputs": [
    {
     "name": "stdout",
     "output_type": "stream",
     "text": [
      "                        gene  importance\n",
      "0                     TXNDC5    0.114564\n",
      "1                      ZWINT    0.066280\n",
      "2                   SLC35E2A    0.144976\n",
      "3                       EZH2    0.116558\n",
      "4                    RAP1GAP    0.092629\n",
      "5                     EIF1AY    0.041661\n",
      "6                        MAK    0.070619\n",
      "7                     RPS4Y1    0.062653\n",
      "8                      RBM47    0.088901\n",
      "9                     VPREB3    0.085192\n",
      "10                       DSP    0.070960\n",
      "11                     MS4A1    0.045007\n",
      "ROC                      ROC    1.000000\n",
      "ROC_test            ROC_test    0.791667\n",
      "Mean_accuracy  Mean_accuracy    0.653571\n"
     ]
    }
   ],
   "source": [
    "test=class_fun(gene_all,dat,group,dat1,y_test)\n",
    "print(test)"
   ]
  },
  {
   "cell_type": "code",
   "execution_count": 13,
   "metadata": {},
   "outputs": [],
   "source": [
    "feature=gene_all#[\"ATP6V1D\",\"HLA-DOB\"]#\n",
    "profile=dat\n",
    "group=group\n",
    "test_profile=dat1\n",
    "test_group=y_test"
   ]
  },
  {
   "cell_type": "code",
   "execution_count": null,
   "metadata": {},
   "outputs": [
    {
     "data": {
      "text/html": [
       "<style>#sk-container-id-4 {color: black;background-color: white;}#sk-container-id-4 pre{padding: 0;}#sk-container-id-4 div.sk-toggleable {background-color: white;}#sk-container-id-4 label.sk-toggleable__label {cursor: pointer;display: block;width: 100%;margin-bottom: 0;padding: 0.3em;box-sizing: border-box;text-align: center;}#sk-container-id-4 label.sk-toggleable__label-arrow:before {content: \"▸\";float: left;margin-right: 0.25em;color: #696969;}#sk-container-id-4 label.sk-toggleable__label-arrow:hover:before {color: black;}#sk-container-id-4 div.sk-estimator:hover label.sk-toggleable__label-arrow:before {color: black;}#sk-container-id-4 div.sk-toggleable__content {max-height: 0;max-width: 0;overflow: hidden;text-align: left;background-color: #f0f8ff;}#sk-container-id-4 div.sk-toggleable__content pre {margin: 0.2em;color: black;border-radius: 0.25em;background-color: #f0f8ff;}#sk-container-id-4 input.sk-toggleable__control:checked~div.sk-toggleable__content {max-height: 200px;max-width: 100%;overflow: auto;}#sk-container-id-4 input.sk-toggleable__control:checked~label.sk-toggleable__label-arrow:before {content: \"▾\";}#sk-container-id-4 div.sk-estimator input.sk-toggleable__control:checked~label.sk-toggleable__label {background-color: #d4ebff;}#sk-container-id-4 div.sk-label input.sk-toggleable__control:checked~label.sk-toggleable__label {background-color: #d4ebff;}#sk-container-id-4 input.sk-hidden--visually {border: 0;clip: rect(1px 1px 1px 1px);clip: rect(1px, 1px, 1px, 1px);height: 1px;margin: -1px;overflow: hidden;padding: 0;position: absolute;width: 1px;}#sk-container-id-4 div.sk-estimator {font-family: monospace;background-color: #f0f8ff;border: 1px dotted black;border-radius: 0.25em;box-sizing: border-box;margin-bottom: 0.5em;}#sk-container-id-4 div.sk-estimator:hover {background-color: #d4ebff;}#sk-container-id-4 div.sk-parallel-item::after {content: \"\";width: 100%;border-bottom: 1px solid gray;flex-grow: 1;}#sk-container-id-4 div.sk-label:hover label.sk-toggleable__label {background-color: #d4ebff;}#sk-container-id-4 div.sk-serial::before {content: \"\";position: absolute;border-left: 1px solid gray;box-sizing: border-box;top: 0;bottom: 0;left: 50%;z-index: 0;}#sk-container-id-4 div.sk-serial {display: flex;flex-direction: column;align-items: center;background-color: white;padding-right: 0.2em;padding-left: 0.2em;position: relative;}#sk-container-id-4 div.sk-item {position: relative;z-index: 1;}#sk-container-id-4 div.sk-parallel {display: flex;align-items: stretch;justify-content: center;background-color: white;position: relative;}#sk-container-id-4 div.sk-item::before, #sk-container-id-4 div.sk-parallel-item::before {content: \"\";position: absolute;border-left: 1px solid gray;box-sizing: border-box;top: 0;bottom: 0;left: 50%;z-index: -1;}#sk-container-id-4 div.sk-parallel-item {display: flex;flex-direction: column;z-index: 1;position: relative;background-color: white;}#sk-container-id-4 div.sk-parallel-item:first-child::after {align-self: flex-end;width: 50%;}#sk-container-id-4 div.sk-parallel-item:last-child::after {align-self: flex-start;width: 50%;}#sk-container-id-4 div.sk-parallel-item:only-child::after {width: 0;}#sk-container-id-4 div.sk-dashed-wrapped {border: 1px dashed gray;margin: 0 0.4em 0.5em 0.4em;box-sizing: border-box;padding-bottom: 0.4em;background-color: white;}#sk-container-id-4 div.sk-label label {font-family: monospace;font-weight: bold;display: inline-block;line-height: 1.2em;}#sk-container-id-4 div.sk-label-container {text-align: center;}#sk-container-id-4 div.sk-container {/* jupyter's `normalize.less` sets `[hidden] { display: none; }` but bootstrap.min.css set `[hidden] { display: none !important; }` so we also need the `!important` here to be able to override the default hidden behavior on the sphinx rendered scikit-learn.org. See: https://github.com/scikit-learn/scikit-learn/issues/21755 */display: inline-block !important;position: relative;}#sk-container-id-4 div.sk-text-repr-fallback {display: none;}</style><div id=\"sk-container-id-4\" class=\"sk-top-container\"><div class=\"sk-text-repr-fallback\"><pre>RandomForestClassifier(class_weight=&#x27;balanced_subsample&#x27;, random_state=2345)</pre><b>In a Jupyter environment, please rerun this cell to show the HTML representation or trust the notebook. <br />On GitHub, the HTML representation is unable to render, please try loading this page with nbviewer.org.</b></div><div class=\"sk-container\" hidden><div class=\"sk-item\"><div class=\"sk-estimator sk-toggleable\"><input class=\"sk-toggleable__control sk-hidden--visually\" id=\"sk-estimator-id-4\" type=\"checkbox\" checked><label for=\"sk-estimator-id-4\" class=\"sk-toggleable__label sk-toggleable__label-arrow\">RandomForestClassifier</label><div class=\"sk-toggleable__content\"><pre>RandomForestClassifier(class_weight=&#x27;balanced_subsample&#x27;, random_state=2345)</pre></div></div></div></div></div>"
      ],
      "text/plain": [
       "RandomForestClassifier(class_weight='balanced_subsample', random_state=2345)"
      ]
     },
     "execution_count": 26,
     "metadata": {},
     "output_type": "execute_result"
    }
   ],
   "source": [
    "exp_pre=profile.loc[feature,:]\n",
    "test_exp_pre=test_profile.loc[feature,]\n",
    "dat2=exp_pre.stack()\n",
    "exp=dat2.unstack(0)\n",
    "dat3=test_exp_pre.stack()\n",
    "test_exp=dat3.unstack(0)\n",
    "rf_new = RandomForestClassifier(random_state=2345,class_weight=\"balanced\")\n",
    "rf_new.fit(exp, group)\n",
    "    "
   ]
  },
  {
   "cell_type": "code",
   "execution_count": null,
   "metadata": {},
   "outputs": [],
   "source": [
    "parameters = {'n_estimators':list(range(25,200)),\n",
    "              'criterion':['gini', 'entropy']#,\n",
    "            #  'class_weight':['balanced_subsample','balanced']\n",
    "         #     'max_depth': range(3, 18, 2),\n",
    "            #      'oob_score':[\"True\"],\n",
    "        #'min_samples_split': range(1, 10, 1), \n",
    "        #'min_samples_leaf': range(1, 10, 1),\n",
    "             #     'max_features': ['auto', 'sqrt', 'log2']\n",
    "             } \n",
    "grid = GridSearchCV(RandomForestClassifier(n_jobs=-1,random_state=7895,class_weight=\"balanced\"), parameters, cv=5)#scoring = 'average_precision',balanced,class_weight=\"balanced_subsample\"\n",
    "grid.fit(exp, group)\n",
    "rf_new = grid.best_estimator_\n",
    "rf_new=rf_new.fit(exp, group)"
   ]
  },
  {
   "cell_type": "code",
   "execution_count": 49,
   "metadata": {},
   "outputs": [
    {
     "name": "stdout",
     "output_type": "stream",
     "text": [
      "{'fit_time': array([0.14706206, 0.12081075, 0.11053324, 0.0580256 , 0.0497427 ]), 'score_time': array([0.10210013, 0.13445997, 0.02282023, 0.01238799, 0.01279497]), 'test_accuracy': array([1.        , 0.5       , 1.        , 0.71428571, 0.71428571]), 'test_roc_auc': array([1.        , 0.53333333, 1.        , 0.70833333, 0.66666667]), 'test_precision': array([1.        , 0.66666667, 1.        , 0.75      , 0.66666667]), 'test_recall': array([1.  , 0.4 , 1.  , 0.75, 1.  ]), 'test_f1_score': array([1.  , 0.5 , 1.  , 0.75, 0.8 ])}\n"
     ]
    }
   ],
   "source": [
    "scoring = {'accuracy': make_scorer(accuracy_score),\n",
    "               'roc_auc': make_scorer(roc_auc_score),\n",
    "               'precision': make_scorer(precision_score),\n",
    "               'recall': make_scorer(recall_score),\n",
    "               'f1_score': make_scorer(f1_score)}\n",
    "rf_cv_score = model_selection.cross_validate(rf_new, exp, group, cv=5, scoring=scoring)\n",
    "print(rf_cv_score)\n"
   ]
  },
  {
   "cell_type": "code",
   "execution_count": 50,
   "metadata": {},
   "outputs": [
    {
     "data": {
      "text/plain": [
       "fit_time          0.097235\n",
       "score_time        0.056913\n",
       "test_accuracy     0.785714\n",
       "test_roc_auc      0.781667\n",
       "test_precision    0.816667\n",
       "test_recall       0.830000\n",
       "test_f1_score     0.810000\n",
       "dtype: float64"
      ]
     },
     "execution_count": 50,
     "metadata": {},
     "output_type": "execute_result"
    }
   ],
   "source": [
    "cv_score=pd.DataFrame(rf_cv_score)\n",
    "cv_score.mean(axis=0)"
   ]
  },
  {
   "cell_type": "code",
   "execution_count": 51,
   "metadata": {},
   "outputs": [],
   "source": [
    "y_score = rf_new.predict_proba(test_exp)[:,1]\n",
    "fpr,tpr,threshold = metrics.roc_curve(test_group, y_score)\n",
    "roc_auc_test = metrics.auc(fpr,tpr)"
   ]
  },
  {
   "cell_type": "code",
   "execution_count": 52,
   "metadata": {},
   "outputs": [
    {
     "name": "stdout",
     "output_type": "stream",
     "text": [
      "[0.79032258 0.82258065 0.61290323 0.62903226 0.59677419 0.32258065\n",
      " 0.53225806 0.66129032 0.75806452 0.48387097 0.74193548]\n",
      "[1, 1, 1, 0, 1, 0, 1, 1, 1, 0, 1]\n",
      "[0.    0.125 0.625 0.625 1.    1.   ]\n",
      "[0.         0.         0.         0.33333333 0.33333333 1.        ]\n",
      "0.875\n"
     ]
    }
   ],
   "source": [
    "print(y_score)\n",
    "print(y_test)\n",
    "print(tpr)\n",
    "print(fpr)\n",
    "print(roc_auc_test)"
   ]
  },
  {
   "cell_type": "code",
   "execution_count": 53,
   "metadata": {},
   "outputs": [
    {
     "name": "stderr",
     "output_type": "stream",
     "text": [
      "No handles with labels found to put in legend.\n"
     ]
    },
    {
     "name": "stdout",
     "output_type": "stream",
     "text": [
      "Feature ranking:\n",
      "1. feature DSP (0.036320)\n",
      "2. feature EIF1AY (0.050806)\n",
      "3. feature MS4A1 (0.058230)\n",
      "4. feature MAK (0.077630)\n",
      "5. feature RBM47 (0.081316)\n",
      "6. feature VPREB3 (0.084529)\n",
      "7. feature RPS4Y1 (0.085738)\n",
      "8. feature EZH2 (0.096754)\n",
      "9. feature ZWINT (0.098858)\n",
      "10. feature RAP1GAP (0.103406)\n",
      "11. feature TXNDC5 (0.110707)\n",
      "12. feature SLC35E2A (0.115705)\n"
     ]
    },
    {
     "data": {
      "image/png": "[encoded data removed]",
      "text/plain": [
       "<Figure size 360x720 with 1 Axes>"
      ]
     },
     "metadata": {
      "needs_background": "light"
     },
     "output_type": "display_data"
    }
   ],
   "source": [
    "#print(pred_y_rf_new)\n",
    "importance=rf_new.feature_importances_\n",
    "#print(importance)\n",
    "#print(gene)\n",
    "indices = np.argsort(importance)\n",
    "#print(indices)\n",
    "\n",
    "# 输出排序\n",
    "print(\"Feature ranking:\")\n",
    "featurerank=[]\n",
    "im_value=[]\n",
    "for f in range(exp.shape[1]):\n",
    "    featurerank.append(gene_all[indices[f]])\n",
    "    im_value.append(importance[indices[f]])\n",
    "    print(\"%d. feature %s (%f)\" % (f + 1, gene_all[indices[f]], importance[indices[f]]))\n",
    "#特征重要性可视化\n",
    "plt.figure(figsize=(5,10))\n",
    "feature_imp = pd.Series(im_value,index=featurerank).sort_values(ascending=False)\n",
    "sns.barplot(x= feature_imp,y=feature_imp.index)\n",
    "plt.xlabel('Feature Importance Score')\n",
    "plt.ylabel('Features')\n",
    "plt.title(\"Visualizing Important Features\")\n",
    "plt.legend()\n",
    "plt.show()"
   ]
  },
  {
   "cell_type": "code",
   "execution_count": 55,
   "metadata": {},
   "outputs": [
    {
     "data": {
      "text/html": [
       "<div>\n",
       "<style scoped>\n",
       "    .dataframe tbody tr th:only-of-type {\n",
       "        vertical-align: middle;\n",
       "    }\n",
       "\n",
       "    .dataframe tbody tr th {\n",
       "        vertical-align: top;\n",
       "    }\n",
       "\n",
       "    .dataframe thead th {\n",
       "        text-align: right;\n",
       "    }\n",
       "</style>\n",
       "<table border=\"1\" class=\"dataframe\">\n",
       "  <thead>\n",
       "    <tr style=\"text-align: right;\">\n",
       "      <th></th>\n",
       "      <th>gene</th>\n",
       "      <th>importance</th>\n",
       "    </tr>\n",
       "  </thead>\n",
       "  <tbody>\n",
       "    <tr>\n",
       "      <th>0</th>\n",
       "      <td>DSP</td>\n",
       "      <td>0.036320</td>\n",
       "    </tr>\n",
       "    <tr>\n",
       "      <th>1</th>\n",
       "      <td>EIF1AY</td>\n",
       "      <td>0.050806</td>\n",
       "    </tr>\n",
       "    <tr>\n",
       "      <th>2</th>\n",
       "      <td>MS4A1</td>\n",
       "      <td>0.058230</td>\n",
       "    </tr>\n",
       "    <tr>\n",
       "      <th>3</th>\n",
       "      <td>MAK</td>\n",
       "      <td>0.077630</td>\n",
       "    </tr>\n",
       "    <tr>\n",
       "      <th>4</th>\n",
       "      <td>RBM47</td>\n",
       "      <td>0.081316</td>\n",
       "    </tr>\n",
       "    <tr>\n",
       "      <th>5</th>\n",
       "      <td>VPREB3</td>\n",
       "      <td>0.084529</td>\n",
       "    </tr>\n",
       "    <tr>\n",
       "      <th>6</th>\n",
       "      <td>RPS4Y1</td>\n",
       "      <td>0.085738</td>\n",
       "    </tr>\n",
       "    <tr>\n",
       "      <th>7</th>\n",
       "      <td>EZH2</td>\n",
       "      <td>0.096754</td>\n",
       "    </tr>\n",
       "    <tr>\n",
       "      <th>8</th>\n",
       "      <td>ZWINT</td>\n",
       "      <td>0.098858</td>\n",
       "    </tr>\n",
       "    <tr>\n",
       "      <th>9</th>\n",
       "      <td>RAP1GAP</td>\n",
       "      <td>0.103406</td>\n",
       "    </tr>\n",
       "    <tr>\n",
       "      <th>10</th>\n",
       "      <td>TXNDC5</td>\n",
       "      <td>0.110707</td>\n",
       "    </tr>\n",
       "    <tr>\n",
       "      <th>11</th>\n",
       "      <td>SLC35E2A</td>\n",
       "      <td>0.115705</td>\n",
       "    </tr>\n",
       "  </tbody>\n",
       "</table>\n",
       "</div>"
      ],
      "text/plain": [
       "        gene  importance\n",
       "0        DSP    0.036320\n",
       "1     EIF1AY    0.050806\n",
       "2      MS4A1    0.058230\n",
       "3        MAK    0.077630\n",
       "4      RBM47    0.081316\n",
       "5     VPREB3    0.084529\n",
       "6     RPS4Y1    0.085738\n",
       "7       EZH2    0.096754\n",
       "8      ZWINT    0.098858\n",
       "9    RAP1GAP    0.103406\n",
       "10    TXNDC5    0.110707\n",
       "11  SLC35E2A    0.115705"
      ]
     },
     "execution_count": 55,
     "metadata": {},
     "output_type": "execute_result"
    }
   ],
   "source": [
    "data = { 'gene' : featurerank, 'importance' :im_value }\n",
    "df = pd.DataFrame(data)\n",
    "df.tail()\n",
    "#df.iloc[305::]['gene']\n",
    "df.to_csv('deg_module__inter_importance_train.csv')\n",
    "df[df['importance']>0]"
   ]
  },
  {
   "cell_type": "code",
   "execution_count": null,
   "metadata": {},
   "outputs": [],
   "source": []
  }
 ],
 "metadata": {
  "kernelspec": {
   "display_name": "Python 3",
   "language": "python",
   "name": "python3"
  },
  "language_info": {
   "codemirror_mode": {
    "name": "ipython",
    "version": 3
   },
   "file_extension": ".py",
   "mimetype": "text/x-python",
   "name": "python",
   "nbconvert_exporter": "python",
   "pygments_lexer": "ipython3",
   "version": "3.9.7"
  }
 },
 "nbformat": 4,
 "nbformat_minor": 4
}
