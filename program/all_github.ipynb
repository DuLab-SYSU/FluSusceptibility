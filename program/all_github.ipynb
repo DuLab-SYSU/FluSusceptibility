{
 "cells": [
  {
   "cell_type": "code",
   "execution_count": 1,
   "metadata": {},
   "outputs": [],
   "source": [
    "from mlxtend.feature_selection import SequentialFeatureSelector as SFS\n",
    "from sklearn.neighbors import KNeighborsClassifier\n",
    "from mlxtend.data import wine_data\n",
    "from sklearn.model_selection import train_test_split\n",
    "from sklearn.preprocessing import StandardScaler\n",
    "from sklearn.pipeline import make_pipeline\n",
    "import pandas as pd\n",
    "from sklearn.ensemble import RandomForestClassifier\n",
    "from mlxtend.plotting import plot_sequential_feature_selection as plot_sfs\n",
    "from sklearn.model_selection import GridSearchCV\n",
    "from sklearn.metrics import make_scorer, accuracy_score, precision_score, recall_score, f1_score, roc_auc_score\n",
    "from sklearn import model_selection\n",
    "import json\n",
    "from sklearn.model_selection import cross_val_score\n",
    "from sklearn.metrics import classification_report, confusion_matrix\n",
    "import numpy as np\n",
    "from sklearn import metrics\n",
    "import matplotlib.pyplot as plt\n",
    "import seaborn as sns\n",
    "from mlxtend.feature_selection import ExhaustiveFeatureSelector as EFS\n",
    "import random\n",
    "from sklearn.feature_selection import RFECV\n",
    "from sklearn.model_selection import StratifiedKFold\n"
   ]
  },
  {
   "cell_type": "code",
   "execution_count": null,
   "metadata": {},
   "outputs": [],
   "source": [
    "def class_fun(feature,profile,group):#\n",
    "    exp_pre=profile.loc[feature,:]\n",
    "    #test_exp_pre=test_profile.loc[feature,]\n",
    "    dat2=exp_pre.stack()\n",
    "    exp=dat2.unstack(0)\n",
    "    #dat3=test_exp_pre.stack()\n",
    "    #test_exp=dat3.unstack(0)\n",
    "    rf_new = RandomForestClassifier()\n",
    "    rf_new.fit(exp, group)\n",
    "    #prediction = rf_new.predict(test_exp)\n",
    "    #交叉验证，5次准确率\n",
    "    scores = cross_val_score(rf_new, exp, group, cv=5,scoring='accuracy')\n",
    "    #print(scores)\n",
    "    accuracy_value=pd.DataFrame({'accuracy':scores})\n",
    "    mean_acc=accuracy_value.loc[:,'accuracy'].mean()\n",
    "    #print(mean_acc)\n",
    "    #accuracy_selection.append(accuracy_score(prediction, test_group))\n",
    "    #cvs_selection.append(np.mean(scores))\n",
    "    ##train_roc\n",
    "    y_score = rf_new.predict_proba(exp)[:,1]\n",
    "    fpr,tpr,threshold = metrics.roc_curve(group, y_score)\n",
    "    roc_auc = metrics.auc(fpr,tpr)\n",
    "    ##test_roc\n",
    "    #y_score = rf_new.predict_proba(test_exp)[:,1]\n",
    "    #fpr,tpr,threshold = metrics.roc_curve(test_group, y_score)\n",
    "    #roc_auc_test = metrics.auc(fpr,tpr)\n",
    "\n",
    "    #print(pred_y_rf_new)\n",
    "    importance=rf_new.feature_importances_\n",
    "    data = { 'gene' : feature, 'importance' :importance }\n",
    "    df = pd.DataFrame(data)\n",
    "    df.loc['ROC']=['ROC',roc_auc]\n",
    "    #df.loc['ROC_test']=['ROC_test',roc_auc_test]\n",
    "    df.loc['Mean_accuracy']=['Mean_accuracy',mean_acc]\n",
    "\n",
    "    return df\n",
    "\n",
    "def combination_fun(x,profile,group):\n",
    "    #gene_all=[]\n",
    "    all_value=pd.DataFrame({'gene_pair':[],'gene':[],'importance':[],'Rank':[],'roc':[],'module_two_genes':[],\n",
    "                            'iteration1':[],'iteration2':[]})\n",
    "    module=x.iloc[:,1].drop_duplicates().values.tolist()\n",
    "    for mm in module:\n",
    "        print(mm)\n",
    "        gene_module=x.loc[x['modeuleType'] != mm].gene.tolist()\n",
    "        #print(gene_module)\n",
    "        y=x[x.modeuleType.isin([mm])].gene\n",
    "        for i in range(0,len(y)-1):\n",
    "            for j in range(i+1,len(y)):\n",
    "                gene=[y[i],y[j]]\n",
    "                gene_all=gene_module+gene\n",
    "                #print(gene_all)\n",
    "                class_results=class_fun(gene_all,profile,group)#\n",
    "                roc=class_results.loc['ROC'].importance\n",
    "                #roc_test=class_results.loc['ROC_test'].importance\n",
    "                mean_acc=class_results.loc['Mean_accuracy'].importance\n",
    "                gene_importance=class_results.drop(index=[\"ROC\",\"Mean_accuracy\"])\n",
    "                gene_importance['Rank'] = gene_importance['importance'].rank(method=\"average\")\n",
    "\n",
    "                #gene_all=gene_all.append(gene_importance)\n",
    "                #roc_all.extend([roc])\n",
    "                valuedf=pd.DataFrame({'gene_pair':'_'.join(gene),'gene':gene_importance.gene,'importance':gene_importance.importance,\n",
    "                                      'Rank':gene_importance.Rank,\n",
    "                                          'Mean_accuracy':mean_acc,\n",
    "                                          'roc':roc,'module_two_genes':mm\n",
    "                                          ,'iteration1':i,'iteration2':j})\n",
    "                all_value=pd.concat([valuedf,all_value])\n",
    "                #print(gene)\n",
    "    gene_all=findgene_fun(all_value,x)\n",
    "    all_value.to_csv('all_value_com_all_notest.csv')\n",
    "#print(gene_all)\n",
    "    return gene_all\n",
    "\n",
    "\n",
    "\n",
    "def jurge_fun(x):\n",
    "    if x[6]==x[9]:\n",
    "        y=\"a\"\n",
    "    else:\n",
    "        y=\"b\"\n",
    "    return y\n",
    "\n",
    "def findgene_fun(df1,df2):\n",
    "    module_res=pd.merge(df1,df2,on='gene')\n",
    "    module_res.loc[:,'type'] = module_res.apply(jurge_fun,1)\n",
    "    module_res.loc[:,'id'] = module_res.index\n",
    "    module_res1 =module_res.loc[module_res['type']=='a']\n",
    "    rank_accuracy=module_res1.groupby(['modeuleType']).apply(lambda t: t[(t['Mean_accuracy']==t['Mean_accuracy'].max())])\n",
    "    rank_accuracy1=rank_accuracy.drop(columns=['modeuleType'])\n",
    "    rank_accuracy1.reset_index(inplace=True)\n",
    "    rank_impor=rank_accuracy1.groupby(['modeuleType']).apply(lambda t: t[(t['Rank']==t['Rank'].max())])\n",
    "    rank_impor1=rank_impor.drop(columns=['modeuleType','level_1'])\n",
    "    rank_impor1.reset_index(inplace=True)\n",
    "    #res_last=pd.merge(module_res,rank_impor1,on='id',how='right')\n",
    "    #print(res_last['gene_x'])\n",
    "    res_last=rank_impor1.loc[:,['gene_pair','modeuleType']]\n",
    "    return res_last.drop_duplicates()\n",
    "\n",
    "\n",
    "#read data\n",
    "#dat=pd.DataFrame(pd.read_csv('D:/wrok/flu_paper/data/result2/result_new/h3n2_train.csv',header=0,index_col=0))\n",
    "dat=pd.DataFrame(pd.read_csv('dm_inter_all.csv',header=0,index_col=0))\n",
    "#dat=pd.DataFrame(pd.read_csv('D:/wrok/flu_paper/data/result2/result_new/deg_expression_limma.csv',header=0,index_col=0))\n",
    "#h3n2_group=pd.DataFrame(pd.read_csv('D:/wrok/flu_paper/data/result2/result_new/h3n2_group_all.csv',header=0,index_col=0))\n",
    "gene=dat.index.tolist()\n",
    "#dat1=dat.iloc[:,2:74]\n",
    "dat2=dat.stack()\n",
    "\n",
    "expression=dat2.unstack(0)\n",
    "print(expression.shape)\n",
    "\n",
    "####group\n",
    "#group=[1, 1, 1, 1, 1, 1, 1, 1, 0, 0, 0, 0, 0, 0, 0, 0, 1, 1, 1, 1, 1, 1, 1, 1, 1, 0, 0, 0, 0, 0, 0, 0, 1, 1, 1, 1, 1, 0, 0, 0]\n",
    "group=[1, 1, 1, 1, 1, 1, 1, 1, 0, 0, 0, 0, 0, 0, 0, 0, 1, 1, 1, 1, 1, 1, 1, 1, 1, 0, 0, 0, 0, 0, 0, 0, 0, 1, 1, 1, 1, 1, 0, 0, 0]\n",
    "\n",
    "print(len(group))\n",
    "\n",
    "\n",
    "gene_module=pd.DataFrame(pd.read_csv('dm_inter_gene_module_all.csv'\n",
    "                                      ,header=0,index_col=0))\n",
    "print(gene_module.shape)\n",
    "#last_iteration=circle_fun(500,gene_module,dat,group)#\n",
    "arg_l = [(gene_module, dat, group) for i in range(1000)]\n",
    "\n",
    "with Pool(48) as pool:\n",
    "    res=pool.starmap(combination_fun, arg_l)\n",
    "    pool.close()\n",
    "    pool.join()\n",
    "\n",
    "#def flat(a):\n",
    "#    l=[]\n",
    "#    for i in a:\n",
    "#        if type(i) is list:\n",
    "#            for j in i:\n",
    "#                l.append(j)\n",
    "#        else:\n",
    "#            l.append(i)\n",
    "#    return(l)\n",
    "#gene_list = flat(res)\n",
    "#print(gene_list)\n",
    "#gene_count=Counter(gene_list)\n",
    "#gene_count_all=pd.DataFrame.from_dict(gene_count,orient='index',columns=['count']).reset_index()\n",
    "\n",
    "def flat(a):\n",
    "    l=pd.DataFrame({'gene_pair':[],'modeuleType':[]})\n",
    "    for i in a:\n",
    "        l=pd.concat([l,i])\n",
    "    return(l)\n",
    "\n",
    "gene_list = flat(res)\n",
    "print(gene_list)\n",
    "type(gene_list)\n",
    "\n",
    "\n",
    "tt=gene_list.groupby('modeuleType').value_counts()\n",
    "#print(type(tt))\n",
    "tt=tt.reset_index()\n",
    "tt.columns = ['moduleType','gene_pair','count']\n",
    "tt.to_csv('gene_count_all_notest.csv')\n"
   ]
  },
  {
   "cell_type": "code",
   "execution_count": 33,
   "metadata": {},
   "outputs": [
    {
     "data": {
      "text/html": [
       "<div>\n",
       "<style scoped>\n",
       "    .dataframe tbody tr th:only-of-type {\n",
       "        vertical-align: middle;\n",
       "    }\n",
       "\n",
       "    .dataframe tbody tr th {\n",
       "        vertical-align: top;\n",
       "    }\n",
       "\n",
       "    .dataframe thead th {\n",
       "        text-align: right;\n",
       "    }\n",
       "</style>\n",
       "<table border=\"1\" class=\"dataframe\">\n",
       "  <thead>\n",
       "    <tr style=\"text-align: right;\">\n",
       "      <th></th>\n",
       "      <th>moduleType</th>\n",
       "      <th>gene_pair</th>\n",
       "      <th>count</th>\n",
       "    </tr>\n",
       "  </thead>\n",
       "  <tbody>\n",
       "    <tr>\n",
       "      <th>0</th>\n",
       "      <td>MEbrown</td>\n",
       "      <td>S100A12_ACOX1</td>\n",
       "      <td>96</td>\n",
       "    </tr>\n",
       "    <tr>\n",
       "      <th>1</th>\n",
       "      <td>MEbrown</td>\n",
       "      <td>ACOX1_CXCL1</td>\n",
       "      <td>96</td>\n",
       "    </tr>\n",
       "    <tr>\n",
       "      <th>2</th>\n",
       "      <td>MEbrown</td>\n",
       "      <td>ACOX1_DOCK5</td>\n",
       "      <td>96</td>\n",
       "    </tr>\n",
       "    <tr>\n",
       "      <th>3</th>\n",
       "      <td>MEbrown</td>\n",
       "      <td>S100A12_IL1R2</td>\n",
       "      <td>70</td>\n",
       "    </tr>\n",
       "    <tr>\n",
       "      <th>4</th>\n",
       "      <td>MEbrown</td>\n",
       "      <td>ACOX1_ALPL</td>\n",
       "      <td>48</td>\n",
       "    </tr>\n",
       "  </tbody>\n",
       "</table>\n",
       "</div>"
      ],
      "text/plain": [
       "  moduleType      gene_pair  count\n",
       "0    MEbrown  S100A12_ACOX1     96\n",
       "1    MEbrown    ACOX1_CXCL1     96\n",
       "2    MEbrown    ACOX1_DOCK5     96\n",
       "3    MEbrown  S100A12_IL1R2     70\n",
       "4    MEbrown     ACOX1_ALPL     48"
      ]
     },
     "execution_count": 33,
     "metadata": {},
     "output_type": "execute_result"
    }
   ],
   "source": [
    "gene_count_all=pd.DataFrame(pd.read_csv('gene_count_all_notest.csv',header=0,index_col=0))\n",
    "gene_count_all.head()"
   ]
  },
  {
   "cell_type": "code",
   "execution_count": 34,
   "metadata": {},
   "outputs": [],
   "source": [
    "gene_count_all.sort_values(by=\"count\",ascending=False,inplace=True)"
   ]
  },
  {
   "cell_type": "code",
   "execution_count": 68,
   "metadata": {},
   "outputs": [
    {
     "name": "stdout",
     "output_type": "stream",
     "text": [
      "   moduleType      gene_pair  count\n",
      "0     MEbrown  S100A12_ACOX1     96\n",
      "1     MEbrown    ACOX1_CXCL1     96\n",
      "51      MEtan     CD79B_CD72     96\n",
      "52      MEtan  CD79B_OSBPL10     96\n",
      "26     MEcyan   PKN2_ANKRD11     96\n",
      "27     MEcyan    RBM47_UBE2W     71\n"
     ]
    }
   ],
   "source": [
    "print(gene_count_all.groupby('moduleType').head(2))"
   ]
  },
  {
   "cell_type": "code",
   "execution_count": 69,
   "metadata": {},
   "outputs": [],
   "source": [
    "gene_all=['CD72','S100A12','CXCL1','PIK3CB','ACOX1','PKN2','ANKRD11','CD79B','OSBPL10']#gene_count_all.sort_values(by=\"count\",ascending=False),'LIMS1','CORO2B','LIMS1','PKN2','ANKRD11'"
   ]
  },
  {
   "cell_type": "code",
   "execution_count": 80,
   "metadata": {},
   "outputs": [
    {
     "name": "stdout",
     "output_type": "stream",
     "text": [
      "0.8305555555555555\n",
      "0.8305555555555555\n"
     ]
    }
   ],
   "source": [
    "\n",
    "test=class_fun(gene_all,dat,group)\n",
    "\n",
    "print(test.loc['Mean_accuracy',].loc['importance',])"
   ]
  },
  {
   "cell_type": "code",
   "execution_count": 71,
   "metadata": {},
   "outputs": [],
   "source": [
    "feature=gene_all\n",
    "profile=dat\n",
    "group=group\n",
    "#test_profile=dat1\n",
    "#test_group=y_test"
   ]
  },
  {
   "cell_type": "code",
   "execution_count": 77,
   "metadata": {},
   "outputs": [
    {
     "data": {
      "text/html": [
       "<style>#sk-container-id-14 {color: black;background-color: white;}#sk-container-id-14 pre{padding: 0;}#sk-container-id-14 div.sk-toggleable {background-color: white;}#sk-container-id-14 label.sk-toggleable__label {cursor: pointer;display: block;width: 100%;margin-bottom: 0;padding: 0.3em;box-sizing: border-box;text-align: center;}#sk-container-id-14 label.sk-toggleable__label-arrow:before {content: \"▸\";float: left;margin-right: 0.25em;color: #696969;}#sk-container-id-14 label.sk-toggleable__label-arrow:hover:before {color: black;}#sk-container-id-14 div.sk-estimator:hover label.sk-toggleable__label-arrow:before {color: black;}#sk-container-id-14 div.sk-toggleable__content {max-height: 0;max-width: 0;overflow: hidden;text-align: left;background-color: #f0f8ff;}#sk-container-id-14 div.sk-toggleable__content pre {margin: 0.2em;color: black;border-radius: 0.25em;background-color: #f0f8ff;}#sk-container-id-14 input.sk-toggleable__control:checked~div.sk-toggleable__content {max-height: 200px;max-width: 100%;overflow: auto;}#sk-container-id-14 input.sk-toggleable__control:checked~label.sk-toggleable__label-arrow:before {content: \"▾\";}#sk-container-id-14 div.sk-estimator input.sk-toggleable__control:checked~label.sk-toggleable__label {background-color: #d4ebff;}#sk-container-id-14 div.sk-label input.sk-toggleable__control:checked~label.sk-toggleable__label {background-color: #d4ebff;}#sk-container-id-14 input.sk-hidden--visually {border: 0;clip: rect(1px 1px 1px 1px);clip: rect(1px, 1px, 1px, 1px);height: 1px;margin: -1px;overflow: hidden;padding: 0;position: absolute;width: 1px;}#sk-container-id-14 div.sk-estimator {font-family: monospace;background-color: #f0f8ff;border: 1px dotted black;border-radius: 0.25em;box-sizing: border-box;margin-bottom: 0.5em;}#sk-container-id-14 div.sk-estimator:hover {background-color: #d4ebff;}#sk-container-id-14 div.sk-parallel-item::after {content: \"\";width: 100%;border-bottom: 1px solid gray;flex-grow: 1;}#sk-container-id-14 div.sk-label:hover label.sk-toggleable__label {background-color: #d4ebff;}#sk-container-id-14 div.sk-serial::before {content: \"\";position: absolute;border-left: 1px solid gray;box-sizing: border-box;top: 0;bottom: 0;left: 50%;z-index: 0;}#sk-container-id-14 div.sk-serial {display: flex;flex-direction: column;align-items: center;background-color: white;padding-right: 0.2em;padding-left: 0.2em;position: relative;}#sk-container-id-14 div.sk-item {position: relative;z-index: 1;}#sk-container-id-14 div.sk-parallel {display: flex;align-items: stretch;justify-content: center;background-color: white;position: relative;}#sk-container-id-14 div.sk-item::before, #sk-container-id-14 div.sk-parallel-item::before {content: \"\";position: absolute;border-left: 1px solid gray;box-sizing: border-box;top: 0;bottom: 0;left: 50%;z-index: -1;}#sk-container-id-14 div.sk-parallel-item {display: flex;flex-direction: column;z-index: 1;position: relative;background-color: white;}#sk-container-id-14 div.sk-parallel-item:first-child::after {align-self: flex-end;width: 50%;}#sk-container-id-14 div.sk-parallel-item:last-child::after {align-self: flex-start;width: 50%;}#sk-container-id-14 div.sk-parallel-item:only-child::after {width: 0;}#sk-container-id-14 div.sk-dashed-wrapped {border: 1px dashed gray;margin: 0 0.4em 0.5em 0.4em;box-sizing: border-box;padding-bottom: 0.4em;background-color: white;}#sk-container-id-14 div.sk-label label {font-family: monospace;font-weight: bold;display: inline-block;line-height: 1.2em;}#sk-container-id-14 div.sk-label-container {text-align: center;}#sk-container-id-14 div.sk-container {/* jupyter's `normalize.less` sets `[hidden] { display: none; }` but bootstrap.min.css set `[hidden] { display: none !important; }` so we also need the `!important` here to be able to override the default hidden behavior on the sphinx rendered scikit-learn.org. See: https://github.com/scikit-learn/scikit-learn/issues/21755 */display: inline-block !important;position: relative;}#sk-container-id-14 div.sk-text-repr-fallback {display: none;}</style><div id=\"sk-container-id-14\" class=\"sk-top-container\"><div class=\"sk-text-repr-fallback\"><pre>RandomForestClassifier(random_state=2345)</pre><b>In a Jupyter environment, please rerun this cell to show the HTML representation or trust the notebook. <br />On GitHub, the HTML representation is unable to render, please try loading this page with nbviewer.org.</b></div><div class=\"sk-container\" hidden><div class=\"sk-item\"><div class=\"sk-estimator sk-toggleable\"><input class=\"sk-toggleable__control sk-hidden--visually\" id=\"sk-estimator-id-14\" type=\"checkbox\" checked><label for=\"sk-estimator-id-14\" class=\"sk-toggleable__label sk-toggleable__label-arrow\">RandomForestClassifier</label><div class=\"sk-toggleable__content\"><pre>RandomForestClassifier(random_state=2345)</pre></div></div></div></div></div>"
      ],
      "text/plain": [
       "RandomForestClassifier(random_state=2345)"
      ]
     },
     "execution_count": 77,
     "metadata": {},
     "output_type": "execute_result"
    }
   ],
   "source": [
    "exp_pre=profile.loc[feature,:]\n",
    "    #test_exp_pre=test_profile.loc[feature,]\n",
    "dat2=exp_pre.stack()\n",
    "exp=dat2.unstack(0)\n",
    "    #dat3=test_exp_pre.stack()\n",
    "    #test_exp=dat3.unstack(0)\n",
    "rf_new = RandomForestClassifier(random_state=2345)#random_state=2022\n",
    "rf_new.fit(exp, group)\n",
    "    \n"
   ]
  },
  {
   "cell_type": "code",
   "execution_count": 78,
   "metadata": {},
   "outputs": [
    {
     "name": "stdout",
     "output_type": "stream",
     "text": [
      "0.8555555555555555\n",
      "                        gene  importance\n",
      "0                       CD72    0.124606\n",
      "1                    S100A12    0.087410\n",
      "2                      CXCL1    0.076216\n",
      "3                     PIK3CB    0.050255\n",
      "4                      ACOX1    0.238855\n",
      "5                       PKN2    0.199782\n",
      "6                    ANKRD11    0.047830\n",
      "7                      CD79B    0.131851\n",
      "8                    OSBPL10    0.043196\n",
      "ROC                      ROC    1.000000\n",
      "Mean_accuracy  Mean_accuracy    0.855556\n"
     ]
    }
   ],
   "source": [
    "#prediction = rf_new.predict(test_exp)\n",
    "    #交叉验证，5次准确率\n",
    "scores = cross_val_score(rf_new, exp, group, cv=5,scoring='accuracy')\n",
    "    #print(scores)\n",
    "accuracy_value=pd.DataFrame({'accuracy':scores})\n",
    "mean_acc=accuracy_value.loc[:,'accuracy'].mean()\n",
    "print(mean_acc)\n",
    "    #accuracy_selection.append(accuracy_score(prediction, test_group))\n",
    "    #cvs_selection.append(np.mean(scores))\n",
    "    ##train_roc\n",
    "y_score = rf_new.predict_proba(exp)[:,1]\n",
    "fpr,tpr,threshold = metrics.roc_curve(group, y_score)\n",
    "roc_auc = metrics.auc(fpr,tpr)\n",
    "    ##test_roc\n",
    "    #y_score = rf_new.predict_proba(test_exp)[:,1]\n",
    "    #fpr,tpr,threshold = metrics.roc_curve(test_group, y_score)\n",
    "    #roc_auc_test = metrics.auc(fpr,tpr)\n",
    "    \n",
    "    #print(pred_y_rf_new)\n",
    "importance=rf_new.feature_importances_\n",
    "data = { 'gene' : feature, 'importance' :importance }\n",
    "df = pd.DataFrame(data)\n",
    "df.loc['ROC']=['ROC',roc_auc]\n",
    "    #df.loc['ROC_test']=['ROC_test',roc_auc_test]\n",
    "df.loc['Mean_accuracy']=['Mean_accuracy',mean_acc]\n",
    "        \n",
    "print(df)"
   ]
  },
  {
   "cell_type": "code",
   "execution_count": 83,
   "metadata": {},
   "outputs": [
    {
     "name": "stdout",
     "output_type": "stream",
     "text": [
      "{'fit_time': array([0.1146481 , 0.10103011, 0.08835506, 0.08913326, 0.08171749]), 'score_time': array([0.01834178, 0.01034737, 0.0116539 , 0.01020598, 0.00950885]), 'test_accuracy': array([0.77777778, 0.875     , 0.875     , 0.875     , 0.875     ]), 'test_roc_auc': array([0.775, 0.9  , 0.875, 0.875, 0.875]), 'test_precision': array([0.8, 1. , 0.8, 0.8, 1. ]), 'test_recall': array([0.8 , 0.8 , 1.  , 1.  , 0.75]), 'test_f1_score': array([0.8       , 0.88888889, 0.88888889, 0.88888889, 0.85714286])}\n"
     ]
    }
   ],
   "source": [
    "scoring = {'accuracy': make_scorer(accuracy_score),\n",
    "               'roc_auc': make_scorer(roc_auc_score),\n",
    "               'precision': make_scorer(precision_score),\n",
    "               'recall': make_scorer(recall_score),\n",
    "               'f1_score': make_scorer(f1_score)}\n",
    "rf_cv_score = model_selection.cross_validate(rf_new, exp, group, cv=5, scoring=scoring)\n",
    "print(rf_cv_score)"
   ]
  },
  {
   "cell_type": "code",
   "execution_count": 84,
   "metadata": {},
   "outputs": [
    {
     "name": "stdout",
     "output_type": "stream",
     "text": [
      "0.855555556\n",
      "0.86\n",
      "0.8800000000000001\n",
      "0.8699999999999999\n",
      "0.864761906\n"
     ]
    }
   ],
   "source": [
    "acc=(0.77777778+ 0.875+ 0.875+0.875+0.875 )/5 \n",
    "print(acc)\n",
    "auc=(0.775+0.9+ 0.875+ 0.875+ 0.875 )/5\n",
    "print(auc)\n",
    "preci=(0.8+ 1.+ 0.8+ 0.8+ 1. )/5\n",
    "print(preci)\n",
    "recall=(0.8 + 0.8 + 1. + 1. + 0.75    )/5\n",
    "print(recall)\n",
    "f1=(0.8 + 0.88888889+ 0.88888889+ 0.88888889+ 0.85714286)/5\n",
    "print(f1)"
   ]
  },
  {
   "cell_type": "code",
   "execution_count": 90,
   "metadata": {},
   "outputs": [
    {
     "data": {
      "text/plain": [
       "array([0.78, 0.99, 0.88, 0.76, 0.95, 1.  , 0.99, 0.8 , 0.28, 0.09, 0.04,\n",
       "       0.25, 0.1 , 0.21, 0.19, 0.11, 0.6 , 0.98, 0.86, 0.91, 0.98, 0.98,\n",
       "       0.98, 0.92, 0.89, 0.26, 0.08, 0.07, 0.11, 0.24, 0.04, 0.16, 0.16,\n",
       "       0.84, 0.93, 0.74, 0.94, 0.96, 0.01, 0.05, 0.17])"
      ]
     },
     "execution_count": 90,
     "metadata": {},
     "output_type": "execute_result"
    }
   ],
   "source": [
    "y_score"
   ]
  },
  {
   "cell_type": "code",
   "execution_count": 86,
   "metadata": {},
   "outputs": [
    {
     "name": "stderr",
     "output_type": "stream",
     "text": [
      "No handles with labels found to put in legend.\n"
     ]
    },
    {
     "name": "stdout",
     "output_type": "stream",
     "text": [
      "Feature ranking:\n",
      "1. feature OSBPL10 (0.043196)\n",
      "2. feature ANKRD11 (0.047830)\n",
      "3. feature PIK3CB (0.050255)\n",
      "4. feature CXCL1 (0.076216)\n",
      "5. feature S100A12 (0.087410)\n",
      "6. feature CD72 (0.124606)\n",
      "7. feature CD79B (0.131851)\n",
      "8. feature PKN2 (0.199782)\n",
      "9. feature ACOX1 (0.238855)\n"
     ]
    },
    {
     "data": {
      "image/png": "[encoded data removed]",
      "text/plain": [
       "<Figure size 360x720 with 1 Axes>"
      ]
     },
     "metadata": {
      "needs_background": "light"
     },
     "output_type": "display_data"
    }
   ],
   "source": [
    "#print(pred_y_rf_new)\n",
    "importance=rf_new.feature_importances_\n",
    "#print(importance)\n",
    "#print(gene)\n",
    "indices = np.argsort(importance)\n",
    "#print(indices)\n",
    "\n",
    "# 输出排序\n",
    "print(\"Feature ranking:\")\n",
    "featurerank=[]\n",
    "im_value=[]\n",
    "for f in range(exp.shape[1]):\n",
    "    featurerank.append(gene_all[indices[f]])\n",
    "    im_value.append(importance[indices[f]])\n",
    "    print(\"%d. feature %s (%f)\" % (f + 1, gene_all[indices[f]], importance[indices[f]]))\n",
    "#特征重要性可视化\n",
    "plt.figure(figsize=(5,10))\n",
    "feature_imp = pd.Series(im_value,index=featurerank).sort_values(ascending=False)\n",
    "sns.barplot(x= feature_imp,y=feature_imp.index)\n",
    "plt.xlabel('Feature Importance Score')\n",
    "plt.ylabel('Features')\n",
    "plt.title(\"Visualizing Important Features\")\n",
    "plt.legend()\n",
    "plt.show()"
   ]
  },
  {
   "cell_type": "code",
   "execution_count": 87,
   "metadata": {},
   "outputs": [
    {
     "data": {
      "text/html": [
       "<div>\n",
       "<style scoped>\n",
       "    .dataframe tbody tr th:only-of-type {\n",
       "        vertical-align: middle;\n",
       "    }\n",
       "\n",
       "    .dataframe tbody tr th {\n",
       "        vertical-align: top;\n",
       "    }\n",
       "\n",
       "    .dataframe thead th {\n",
       "        text-align: right;\n",
       "    }\n",
       "</style>\n",
       "<table border=\"1\" class=\"dataframe\">\n",
       "  <thead>\n",
       "    <tr style=\"text-align: right;\">\n",
       "      <th></th>\n",
       "      <th>gene</th>\n",
       "      <th>importance</th>\n",
       "    </tr>\n",
       "  </thead>\n",
       "  <tbody>\n",
       "    <tr>\n",
       "      <th>0</th>\n",
       "      <td>OSBPL10</td>\n",
       "      <td>0.043196</td>\n",
       "    </tr>\n",
       "    <tr>\n",
       "      <th>1</th>\n",
       "      <td>ANKRD11</td>\n",
       "      <td>0.047830</td>\n",
       "    </tr>\n",
       "    <tr>\n",
       "      <th>2</th>\n",
       "      <td>PIK3CB</td>\n",
       "      <td>0.050255</td>\n",
       "    </tr>\n",
       "    <tr>\n",
       "      <th>3</th>\n",
       "      <td>CXCL1</td>\n",
       "      <td>0.076216</td>\n",
       "    </tr>\n",
       "    <tr>\n",
       "      <th>4</th>\n",
       "      <td>S100A12</td>\n",
       "      <td>0.087410</td>\n",
       "    </tr>\n",
       "    <tr>\n",
       "      <th>5</th>\n",
       "      <td>CD72</td>\n",
       "      <td>0.124606</td>\n",
       "    </tr>\n",
       "    <tr>\n",
       "      <th>6</th>\n",
       "      <td>CD79B</td>\n",
       "      <td>0.131851</td>\n",
       "    </tr>\n",
       "    <tr>\n",
       "      <th>7</th>\n",
       "      <td>PKN2</td>\n",
       "      <td>0.199782</td>\n",
       "    </tr>\n",
       "    <tr>\n",
       "      <th>8</th>\n",
       "      <td>ACOX1</td>\n",
       "      <td>0.238855</td>\n",
       "    </tr>\n",
       "  </tbody>\n",
       "</table>\n",
       "</div>"
      ],
      "text/plain": [
       "      gene  importance\n",
       "0  OSBPL10    0.043196\n",
       "1  ANKRD11    0.047830\n",
       "2   PIK3CB    0.050255\n",
       "3    CXCL1    0.076216\n",
       "4  S100A12    0.087410\n",
       "5     CD72    0.124606\n",
       "6    CD79B    0.131851\n",
       "7     PKN2    0.199782\n",
       "8    ACOX1    0.238855"
      ]
     },
     "execution_count": 87,
     "metadata": {},
     "output_type": "execute_result"
    }
   ],
   "source": [
    "data = { 'gene' : featurerank, 'importance' :im_value }\n",
    "df = pd.DataFrame(data)\n",
    "df.tail()\n",
    "#df.iloc[305::]['gene']\n",
    "df.to_csv('deg_module__inter_importance_all.csv')\n",
    "df[df['importance']>0]"
   ]
  },
  {
   "cell_type": "code",
   "execution_count": 89,
   "metadata": {},
   "outputs": [
    {
     "name": "stdout",
     "output_type": "stream",
     "text": [
      "[0.78 0.99 0.88 0.76 0.95 1.   0.99 0.8  0.28 0.09 0.04 0.25 0.1  0.21\n",
      " 0.19 0.11 0.6  0.98 0.86 0.91 0.98 0.98 0.98 0.92 0.89 0.26 0.08 0.07\n",
      " 0.11 0.24 0.04 0.16 0.16 0.84 0.93 0.74 0.94 0.96 0.01 0.05 0.17]\n",
      "[0.         0.04545455 0.13636364 0.31818182 1.         1.\n",
      " 1.         1.         1.         1.        ]\n",
      "[0.         0.         0.         0.         0.         0.36842105\n",
      " 0.57894737 0.84210526 0.94736842 1.        ]\n",
      "1.0\n"
     ]
    }
   ],
   "source": [
    "print(y_score)\n",
    "#print(y_test)\n",
    "print(tpr)\n",
    "print(fpr)\n",
    "print(roc_auc)\n"
   ]
  }
 ],
 "metadata": {
  "kernelspec": {
   "display_name": "Python 3",
   "language": "python",
   "name": "python3"
  },
  "language_info": {
   "codemirror_mode": {
    "name": "ipython",
    "version": 3
   },
   "file_extension": ".py",
   "mimetype": "text/x-python",
   "name": "python",
   "nbconvert_exporter": "python",
   "pygments_lexer": "ipython3",
   "version": "3.9.7"
  }
 },
 "nbformat": 4,
 "nbformat_minor": 4
}
