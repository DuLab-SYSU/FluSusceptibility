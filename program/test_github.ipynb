{
 "cells": [
  {
   "cell_type": "code",
   "execution_count": 1,
   "metadata": {},
   "outputs": [],
   "source": [
    "from mlxtend.feature_selection import SequentialFeatureSelector as SFS\n",
    "from sklearn.neighbors import KNeighborsClassifier\n",
    "from mlxtend.data import wine_data\n",
    "from sklearn.model_selection import train_test_split\n",
    "from sklearn.preprocessing import StandardScaler\n",
    "from sklearn.pipeline import make_pipeline\n",
    "import pandas as pd\n",
    "from sklearn.ensemble import RandomForestClassifier\n",
    "from mlxtend.plotting import plot_sequential_feature_selection as plot_sfs\n",
    "from sklearn.model_selection import GridSearchCV\n",
    "from sklearn.metrics import make_scorer, accuracy_score, precision_score, recall_score, f1_score, roc_auc_score\n",
    "from sklearn import model_selection\n",
    "import json\n",
    "from sklearn.model_selection import cross_val_score\n",
    "from sklearn.metrics import classification_report, confusion_matrix\n",
    "import numpy as np\n",
    "from sklearn import metrics\n",
    "import matplotlib.pyplot as plt\n",
    "import seaborn as sns\n",
    "from mlxtend.feature_selection import ExhaustiveFeatureSelector as EFS\n",
    "import random\n",
    "from sklearn.feature_selection import RFECV\n",
    "from sklearn.model_selection import StratifiedKFold\n",
    "from multiprocessing import Pool\n",
    "from collections import Counter"
   ]
  },
  {
   "cell_type": "code",
   "execution_count": null,
   "metadata": {},
   "outputs": [],
   "source": [
    "def class_fun(feature,profile,group,test_profile,test_group):#\n",
    "    exp_pre=profile.loc[feature,:]\n",
    "    test_exp_pre=test_profile.loc[feature,]\n",
    "    dat2=exp_pre.stack()\n",
    "    exp=dat2.unstack(0)\n",
    "    dat3=test_exp_pre.stack()\n",
    "    test_exp=dat3.unstack(0)\n",
    "    rf_new = RandomForestClassifier()\n",
    "    rf_new.fit(exp, group)\n",
    "    #prediction = rf_new.predict(test_exp)\n",
    "    #交叉验证，5次准确率\n",
    "    scores = cross_val_score(rf_new, exp, group, cv=5,scoring='accuracy')\n",
    "    #print(scores)\n",
    "    accuracy_value=pd.DataFrame({'accuracy':scores})\n",
    "    mean_acc=accuracy_value.loc[:,'accuracy'].mean()\n",
    "    #print(mean_acc)\n",
    "    #accuracy_selection.append(accuracy_score(prediction, test_group))\n",
    "    #cvs_selection.append(np.mean(scores))\n",
    "    ##train_roc\n",
    "    y_score = rf_new.predict_proba(exp)[:,1]\n",
    "    fpr,tpr,threshold = metrics.roc_curve(group, y_score)\n",
    "    roc_auc = metrics.auc(fpr,tpr)\n",
    "    ##test_roc\n",
    "    y_score = rf_new.predict_proba(test_exp)[:,1]\n",
    "    fpr,tpr,threshold = metrics.roc_curve(test_group, y_score)\n",
    "    roc_auc_test = metrics.auc(fpr,tpr)\n",
    "\n",
    "    #print(pred_y_rf_new)\n",
    "    importance=rf_new.feature_importances_\n",
    "    data = { 'gene' : feature, 'importance' :importance }\n",
    "    df = pd.DataFrame(data)\n",
    "    df.loc['ROC']=['ROC',roc_auc]\n",
    "    df.loc['ROC_test']=['ROC_test',roc_auc_test]\n",
    "    df.loc['Mean_accuracy']=['Mean_accuracy',mean_acc]\n",
    "\n",
    "    return df\n",
    "\n",
    "# In[9]:\n",
    "\n",
    "\n",
    "def jurge_fun(x):\n",
    "    if x[7]==x[10]:\n",
    "        y=\"a\"\n",
    "    else:\n",
    "        y=\"b\"\n",
    "    return y\n",
    "\n",
    "def findgene_fun(df1,df2):\n",
    "    module_res=pd.merge(df1,df2,on='gene')\n",
    "    module_res.loc[:,'type'] = module_res.apply(jurge_fun,1)\n",
    "    module_res.loc[:,'id'] = module_res.index\n",
    "    module_res1 =module_res.loc[module_res['type']=='a']\n",
    "    rank_accuracy=module_res1.groupby(['modeuleType']).apply(lambda t: t[(t['Mean_accuracy']==t['Mean_accuracy'].max())])\n",
    "    rank_accuracy1=rank_accuracy.drop(columns=['modeuleType'])\n",
    "    rank_accuracy1.reset_index(inplace=True)\n",
    "    rank_impor=rank_accuracy1.groupby(['modeuleType']).apply(lambda t: t[(t['Rank']==t['Rank'].max())])\n",
    "    rank_impor1=rank_impor.drop(columns=['modeuleType','level_1'])\n",
    "    rank_impor1.reset_index(inplace=True)\n",
    "    #res_last=pd.merge(module_res,rank_impor1,on='id',how='right')\n",
    "    #print(res_last)\n",
    "    res_last=rank_impor1.loc[:,['gene_pair','modeuleType']]\n",
    "    return res_last.drop_duplicates()\n",
    "\n",
    "def combination_fun(x,profile,group,test_profile,test_group):\n",
    "    #gene_all=[]\n",
    "    all_value=pd.DataFrame({'gene_pair':[],'gene':[],'importance':[],'Rank':[],'roc':[],'roc_test':[],'module_two_genes':[],\n",
    "                            'iteration1':[],'iteration2':[]})\n",
    "    module=x.iloc[:,1].drop_duplicates().values.tolist()\n",
    "    for mm in module:\n",
    "        #print(mm)\n",
    "        gene_module=x.loc[x['modeuleType'] != mm].gene.tolist()\n",
    "        #print(gene_module)\n",
    "        y=x[x.modeuleType.isin([mm])].gene\n",
    "        for i in range(0,len(y)-1):\n",
    "            for j in range(i+1,len(y)):\n",
    "                gene=[y[i],y[j]]\n",
    "                gene_all=gene_module+gene\n",
    "                #print(gene_all)\n",
    "                class_results=class_fun(gene_all,profile,group,test_profile,test_group)#\n",
    "                roc=class_results.loc['ROC'].importance\n",
    "                roc_test=class_results.loc['ROC_test'].importance\n",
    "                mean_acc=class_results.loc['Mean_accuracy'].importance\n",
    "                gene_importance=class_results.drop(index=[\"ROC\",\"ROC_test\",\"Mean_accuracy\"])\n",
    "                gene_importance['Rank'] = gene_importance['importance'].rank(method=\"average\")\n",
    "\n",
    "                #gene_all=gene_all.append(gene_importance)\n",
    "                #roc_all.extend([roc])\n",
    "                valuedf=pd.DataFrame({'gene_pair':'_'.join(gene),'gene':gene_importance.gene,'importance':gene_importance.importance,\n",
    "                                      'Rank':gene_importance.Rank,\n",
    "                                          'Mean_accuracy':mean_acc,\n",
    "                                          'roc':roc,'roc_test':roc_test,'module_two_genes':mm\n",
    "                                          ,'iteration1':i,'iteration2':j})\n",
    "                all_value=pd.concat([valuedf,all_value])\n",
    "    gene_all=findgene_fun(all_value,x)\n",
    "                #print(gene)\n",
    "    all_value.to_csv('all_value_com_moremodule.csv')\n",
    "#print(gene_all)\n",
    "    return gene_all\n",
    "\n",
    "\n",
    "\n",
    "\n",
    "\n",
    "# In[ ]:\n",
    "gene_module=pd.DataFrame(pd.read_csv('dm_inter_gene_module_4dataset.csv'\n",
    "                                      ,header=0,index_col=0))\n",
    "\n",
    "#read data\n",
    "dat=pd.DataFrame(pd.read_csv('dm_inter_4dataset.csv',header=0,index_col=0))\n",
    "group=[ 1, 0, 0, 0, 1, 1, 1, 1, 0, 1, 1, 1, 0, 0, 0, 0, 1, 0, 0, 0, 1, 1, 1, 1, 0, 1, 0, 1, 1, 0, 1, 0, 0]\n",
    "\n",
    "dat1=pd.DataFrame(pd.read_csv('dm_inter_1dataset.csv',header=0,index_col=0))\n",
    "####group\n",
    "y_test=[1, 1, 0, 1, 0, 1, 1, 0]\n",
    "\n",
    "\n",
    "# gene_last=[]\n",
    "# for i in range(1,100):\n",
    "#     print(i)\n",
    "#     gene_all=combination_fun(gene_module,dat,group,dat1,y_test)\n",
    "    #gene_all=findgene_fun(tt,gene_module)\n",
    "#     gene_last.append(gene_all)\n",
    "\n",
    "\n",
    "arg_l = [(gene_module, dat, group, dat1, y_test) for i in range(1000)]\n",
    "\n",
    "with Pool(48) as pool:\n",
    "    res=pool.starmap(combination_fun, arg_l)\n",
    "    pool.close()\n",
    "    pool.join()\n",
    "\n",
    "    \n",
    "def flat(a):\n",
    "    l=pd.DataFrame({'gene_pair':[],'modeuleType':[]})\n",
    "    for i in a:\n",
    "        l=pd.concat([l,i])\n",
    "    return(l)\n",
    "\n",
    "gene_list = flat(res)\n",
    "print(gene_list)\n",
    "type(gene_list)\n",
    "\n",
    "\n",
    "tt=gene_list.groupby('modeuleType').value_counts()\n",
    "#print(type(tt))\n",
    "tt=tt.reset_index()\n",
    "tt.columns = ['moduleType','gene_pair','count']\n",
    "tt.to_csv('gene_count_all_test.csv')\n",
    "\n"
   ]
  },
  {
   "cell_type": "code",
   "execution_count": 7,
   "metadata": {},
   "outputs": [],
   "source": [
    "gene_count_all=pd.DataFrame(pd.read_csv('gene_count_all_test.csv',header=0,index_col=0))\n",
    "gene_count_all.sort_values(by=\"count\",ascending=False,inplace=True)"
   ]
  },
  {
   "cell_type": "code",
   "execution_count": 8,
   "metadata": {},
   "outputs": [
    {
     "name": "stdout",
     "output_type": "stream",
     "text": [
      "   moduleType       gene_pair  count\n",
      "0   MEMagenta     NFIC_PIK3CB     96\n",
      "2   MEMagenta      NR1D2_KRAS     96\n",
      "3   MEMagenta  SLC35E2A_UBE2W     96\n",
      "4   MEMagenta       MBP_UBE2W     96\n",
      "27      METan    VPREB3_IRAK3     96\n",
      "28      METan     CD79A_IRAK3     96\n",
      "29      METan     BANK1_IRAK3     96\n",
      "1   MEMagenta    SCAF11_UBE2W     96\n",
      "30      METan     MYOM2_IRAK3     96\n",
      "31      METan      CD79A_DSC1     71\n"
     ]
    }
   ],
   "source": [
    "print(gene_count_all.groupby('moduleType').head(5))"
   ]
  },
  {
   "cell_type": "code",
   "execution_count": 9,
   "metadata": {},
   "outputs": [],
   "source": [
    "gene_all=['NFIC','NR1D2','KRAS','IRAK3','SLC35E2A','UBE2W','MBP','VPREB3','BANK1','CD79A','MYOM2','SCAF11','PIK3CB']#gene_count_all.sort_values(by=\"count\",ascending=False)"
   ]
  },
  {
   "cell_type": "code",
   "execution_count": 13,
   "metadata": {},
   "outputs": [
    {
     "name": "stdout",
     "output_type": "stream",
     "text": [
      "                        gene  importance\n",
      "0                       NFIC    0.088435\n",
      "1                      NR1D2    0.067023\n",
      "2                       KRAS    0.121110\n",
      "3                      IRAK3    0.083662\n",
      "4                   SLC35E2A    0.032224\n",
      "5                      UBE2W    0.155011\n",
      "6                        MBP    0.035187\n",
      "7                     VPREB3    0.135745\n",
      "8                      BANK1    0.064532\n",
      "9                      CD79A    0.056023\n",
      "10                     MYOM2    0.045686\n",
      "11                    SCAF11    0.060822\n",
      "12                    PIK3CB    0.054540\n",
      "ROC                      ROC    1.000000\n",
      "ROC_test            ROC_test    0.800000\n",
      "Mean_accuracy  Mean_accuracy    0.852381\n"
     ]
    }
   ],
   "source": [
    "\n",
    "test=class_fun(gene_all,dat,group,dat1,y_test)\n",
    "\n",
    "print(test)"
   ]
  },
  {
   "cell_type": "code",
   "execution_count": 14,
   "metadata": {},
   "outputs": [
    {
     "name": "stdout",
     "output_type": "stream",
     "text": [
      "                        gene  importance\n",
      "0                       NFIC    0.088435\n",
      "1                      NR1D2    0.067023\n",
      "2                       KRAS    0.121110\n",
      "3                      IRAK3    0.083662\n",
      "4                   SLC35E2A    0.032224\n",
      "5                      UBE2W    0.155011\n",
      "6                        MBP    0.035187\n",
      "7                     VPREB3    0.135745\n",
      "8                      BANK1    0.064532\n",
      "9                      CD79A    0.056023\n",
      "10                     MYOM2    0.045686\n",
      "11                    SCAF11    0.060822\n",
      "12                    PIK3CB    0.054540\n",
      "ROC                      ROC    1.000000\n",
      "ROC_test            ROC_test    0.800000\n",
      "Mean_accuracy  Mean_accuracy    0.852381\n"
     ]
    }
   ],
   "source": [
    "print(test)"
   ]
  },
  {
   "cell_type": "code",
   "execution_count": 15,
   "metadata": {},
   "outputs": [],
   "source": [
    "feature=gene_all\n",
    "profile=dat\n",
    "group=group\n",
    "test_profile=dat1\n",
    "test_group=y_test"
   ]
  },
  {
   "cell_type": "code",
   "execution_count": 35,
   "metadata": {},
   "outputs": [
    {
     "data": {
      "text/html": [
       "<style>#sk-container-id-4 {color: black;background-color: white;}#sk-container-id-4 pre{padding: 0;}#sk-container-id-4 div.sk-toggleable {background-color: white;}#sk-container-id-4 label.sk-toggleable__label {cursor: pointer;display: block;width: 100%;margin-bottom: 0;padding: 0.3em;box-sizing: border-box;text-align: center;}#sk-container-id-4 label.sk-toggleable__label-arrow:before {content: \"▸\";float: left;margin-right: 0.25em;color: #696969;}#sk-container-id-4 label.sk-toggleable__label-arrow:hover:before {color: black;}#sk-container-id-4 div.sk-estimator:hover label.sk-toggleable__label-arrow:before {color: black;}#sk-container-id-4 div.sk-toggleable__content {max-height: 0;max-width: 0;overflow: hidden;text-align: left;background-color: #f0f8ff;}#sk-container-id-4 div.sk-toggleable__content pre {margin: 0.2em;color: black;border-radius: 0.25em;background-color: #f0f8ff;}#sk-container-id-4 input.sk-toggleable__control:checked~div.sk-toggleable__content {max-height: 200px;max-width: 100%;overflow: auto;}#sk-container-id-4 input.sk-toggleable__control:checked~label.sk-toggleable__label-arrow:before {content: \"▾\";}#sk-container-id-4 div.sk-estimator input.sk-toggleable__control:checked~label.sk-toggleable__label {background-color: #d4ebff;}#sk-container-id-4 div.sk-label input.sk-toggleable__control:checked~label.sk-toggleable__label {background-color: #d4ebff;}#sk-container-id-4 input.sk-hidden--visually {border: 0;clip: rect(1px 1px 1px 1px);clip: rect(1px, 1px, 1px, 1px);height: 1px;margin: -1px;overflow: hidden;padding: 0;position: absolute;width: 1px;}#sk-container-id-4 div.sk-estimator {font-family: monospace;background-color: #f0f8ff;border: 1px dotted black;border-radius: 0.25em;box-sizing: border-box;margin-bottom: 0.5em;}#sk-container-id-4 div.sk-estimator:hover {background-color: #d4ebff;}#sk-container-id-4 div.sk-parallel-item::after {content: \"\";width: 100%;border-bottom: 1px solid gray;flex-grow: 1;}#sk-container-id-4 div.sk-label:hover label.sk-toggleable__label {background-color: #d4ebff;}#sk-container-id-4 div.sk-serial::before {content: \"\";position: absolute;border-left: 1px solid gray;box-sizing: border-box;top: 0;bottom: 0;left: 50%;z-index: 0;}#sk-container-id-4 div.sk-serial {display: flex;flex-direction: column;align-items: center;background-color: white;padding-right: 0.2em;padding-left: 0.2em;position: relative;}#sk-container-id-4 div.sk-item {position: relative;z-index: 1;}#sk-container-id-4 div.sk-parallel {display: flex;align-items: stretch;justify-content: center;background-color: white;position: relative;}#sk-container-id-4 div.sk-item::before, #sk-container-id-4 div.sk-parallel-item::before {content: \"\";position: absolute;border-left: 1px solid gray;box-sizing: border-box;top: 0;bottom: 0;left: 50%;z-index: -1;}#sk-container-id-4 div.sk-parallel-item {display: flex;flex-direction: column;z-index: 1;position: relative;background-color: white;}#sk-container-id-4 div.sk-parallel-item:first-child::after {align-self: flex-end;width: 50%;}#sk-container-id-4 div.sk-parallel-item:last-child::after {align-self: flex-start;width: 50%;}#sk-container-id-4 div.sk-parallel-item:only-child::after {width: 0;}#sk-container-id-4 div.sk-dashed-wrapped {border: 1px dashed gray;margin: 0 0.4em 0.5em 0.4em;box-sizing: border-box;padding-bottom: 0.4em;background-color: white;}#sk-container-id-4 div.sk-label label {font-family: monospace;font-weight: bold;display: inline-block;line-height: 1.2em;}#sk-container-id-4 div.sk-label-container {text-align: center;}#sk-container-id-4 div.sk-container {/* jupyter's `normalize.less` sets `[hidden] { display: none; }` but bootstrap.min.css set `[hidden] { display: none !important; }` so we also need the `!important` here to be able to override the default hidden behavior on the sphinx rendered scikit-learn.org. See: https://github.com/scikit-learn/scikit-learn/issues/21755 */display: inline-block !important;position: relative;}#sk-container-id-4 div.sk-text-repr-fallback {display: none;}</style><div id=\"sk-container-id-4\" class=\"sk-top-container\"><div class=\"sk-text-repr-fallback\"><pre>RandomForestClassifier(random_state=69)</pre><b>In a Jupyter environment, please rerun this cell to show the HTML representation or trust the notebook. <br />On GitHub, the HTML representation is unable to render, please try loading this page with nbviewer.org.</b></div><div class=\"sk-container\" hidden><div class=\"sk-item\"><div class=\"sk-estimator sk-toggleable\"><input class=\"sk-toggleable__control sk-hidden--visually\" id=\"sk-estimator-id-4\" type=\"checkbox\" checked><label for=\"sk-estimator-id-4\" class=\"sk-toggleable__label sk-toggleable__label-arrow\">RandomForestClassifier</label><div class=\"sk-toggleable__content\"><pre>RandomForestClassifier(random_state=69)</pre></div></div></div></div></div>"
      ],
      "text/plain": [
       "RandomForestClassifier(random_state=69)"
      ]
     },
     "execution_count": 35,
     "metadata": {},
     "output_type": "execute_result"
    }
   ],
   "source": [
    "exp_pre=profile.loc[feature,:]\n",
    "test_exp_pre=test_profile.loc[feature,]\n",
    "dat2=exp_pre.stack()\n",
    "exp=dat2.unstack(0)\n",
    "dat3=test_exp_pre.stack()\n",
    "test_exp=dat3.unstack(0)\n",
    "rf_new = RandomForestClassifier(random_state= 69)#random_state= 2\n",
    "rf_new.fit(exp, group)\n",
    "    "
   ]
  },
  {
   "cell_type": "code",
   "execution_count": 36,
   "metadata": {},
   "outputs": [
    {
     "name": "stdout",
     "output_type": "stream",
     "text": [
      "0.8523809523809524\n",
      "                        gene  importance\n",
      "0                       NFIC    0.111005\n",
      "1                      NR1D2    0.092613\n",
      "2                       KRAS    0.141262\n",
      "3                      IRAK3    0.101746\n",
      "4                   SLC35E2A    0.027389\n",
      "5                      UBE2W    0.083128\n",
      "6                        MBP    0.035884\n",
      "7                     VPREB3    0.148208\n",
      "8                      BANK1    0.059694\n",
      "9                      CD79A    0.043378\n",
      "10                     MYOM2    0.042624\n",
      "11                    SCAF11    0.057077\n",
      "12                    PIK3CB    0.055993\n",
      "ROC                      ROC    1.000000\n",
      "ROC_test            ROC_test    0.800000\n",
      "Mean_accuracy  Mean_accuracy    0.852381\n"
     ]
    }
   ],
   "source": [
    "scores = cross_val_score(rf_new, exp, group, cv=5,scoring='accuracy')\n",
    "    #print(scores)\n",
    "accuracy_value=pd.DataFrame({'accuracy':scores})\n",
    "mean_acc=accuracy_value.loc[:,'accuracy'].mean()\n",
    "print(mean_acc)\n",
    "    #accuracy_selection.append(accuracy_score(prediction, test_group))\n",
    "    #cvs_selection.append(np.mean(scores))\n",
    "    ##train_roc\n",
    "y_score = rf_new.predict_proba(exp)[:,1]\n",
    "fpr,tpr,threshold = metrics.roc_curve(group, y_score)\n",
    "roc_auc = metrics.auc(fpr,tpr)\n",
    "    ##test_roc\n",
    "y_score = rf_new.predict_proba(test_exp)[:,1]\n",
    "fpr,tpr,threshold = metrics.roc_curve(test_group, y_score)\n",
    "roc_auc_test = metrics.auc(fpr,tpr)\n",
    "    \n",
    "    #print(pred_y_rf_new)\n",
    "importance=rf_new.feature_importances_\n",
    "data = { 'gene' : feature, 'importance' :importance }\n",
    "df = pd.DataFrame(data)\n",
    "df.loc['ROC']=['ROC',roc_auc]\n",
    "df.loc['ROC_test']=['ROC_test',roc_auc_test]\n",
    "df.loc['Mean_accuracy']=['Mean_accuracy',mean_acc]\n",
    "print(df)"
   ]
  },
  {
   "cell_type": "code",
   "execution_count": 50,
   "metadata": {},
   "outputs": [
    {
     "data": {
      "text/plain": [
       "array([0.35, 0.64, 0.13, 0.26, 0.09, 0.14, 0.95, 0.47])"
      ]
     },
     "execution_count": 50,
     "metadata": {},
     "output_type": "execute_result"
    }
   ],
   "source": [
    "y_score"
   ]
  },
  {
   "cell_type": "code",
   "execution_count": 51,
   "metadata": {},
   "outputs": [
    {
     "data": {
      "text/plain": [
       "[1, 1, 0, 1, 0, 1, 1, 0]"
      ]
     },
     "execution_count": 51,
     "metadata": {},
     "output_type": "execute_result"
    }
   ],
   "source": [
    "test_group"
   ]
  },
  {
   "cell_type": "code",
   "execution_count": 41,
   "metadata": {},
   "outputs": [
    {
     "name": "stdout",
     "output_type": "stream",
     "text": [
      "{'fit_time': array([0.11259508, 0.08313107, 0.08298564, 0.08201933, 0.07979059]), 'score_time': array([0.01034331, 0.01008415, 0.0096674 , 0.01069355, 0.00961709]), 'test_accuracy': array([0.71428571, 0.85714286, 0.85714286, 1.        , 0.83333333]), 'test_roc_auc': array([0.75      , 0.83333333, 0.83333333, 1.        , 0.83333333]), 'test_precision': array([1. , 0.8, 1. , 1. , 1. ]), 'test_recall': array([0.5       , 1.        , 0.66666667, 1.        , 0.66666667]), 'test_f1_score': array([0.66666667, 0.88888889, 0.8       , 1.        , 0.8       ])}\n"
     ]
    }
   ],
   "source": [
    "scoring = {'accuracy': make_scorer(accuracy_score),\n",
    "               'roc_auc': make_scorer(roc_auc_score),\n",
    "               'precision': make_scorer(precision_score),\n",
    "               'recall': make_scorer(recall_score),\n",
    "               'f1_score': make_scorer(f1_score)}\n",
    "rf_cv_score = model_selection.cross_validate(rf_new, exp, group, cv=5, scoring=scoring)\n",
    "print(rf_cv_score)\n"
   ]
  },
  {
   "cell_type": "code",
   "execution_count": 43,
   "metadata": {},
   "outputs": [
    {
     "name": "stdout",
     "output_type": "stream",
     "text": [
      "0.8523809520000001\n",
      "0.849999998\n",
      "0.96\n",
      "0.766666668\n",
      "0.831111112\n"
     ]
    }
   ],
   "source": [
    "acc=(0.71428571+ 0.85714286+ 0.85714286+ 1.+ 0.83333333)/5\n",
    "print(acc)\n",
    "roc_auc=(0.75   + 0.83333333+0.83333333+ 1.+ 0.83333333)/5\n",
    "print(roc_auc)\n",
    "preci=(1.+ 0.8+ 1. + 1.+ 1.)/5\n",
    "print(preci)\n",
    "recall=(0.5     + 1.+ 0.66666667+ 1.+ 0.66666667)/5\n",
    "print(recall)\n",
    "f1=(0.66666667+ 0.88888889+ 0.8  + 1.  + 0.8        )/5\n",
    "print(f1)"
   ]
  },
  {
   "cell_type": "code",
   "execution_count": 48,
   "metadata": {},
   "outputs": [
    {
     "data": {
      "text/html": [
       "<div>\n",
       "<style scoped>\n",
       "    .dataframe tbody tr th:only-of-type {\n",
       "        vertical-align: middle;\n",
       "    }\n",
       "\n",
       "    .dataframe tbody tr th {\n",
       "        vertical-align: top;\n",
       "    }\n",
       "\n",
       "    .dataframe thead th {\n",
       "        text-align: right;\n",
       "    }\n",
       "</style>\n",
       "<table border=\"1\" class=\"dataframe\">\n",
       "  <thead>\n",
       "    <tr style=\"text-align: right;\">\n",
       "      <th></th>\n",
       "      <th>gene</th>\n",
       "      <th>importance</th>\n",
       "    </tr>\n",
       "  </thead>\n",
       "  <tbody>\n",
       "    <tr>\n",
       "      <th>0</th>\n",
       "      <td>SLC35E2A</td>\n",
       "      <td>0.027389</td>\n",
       "    </tr>\n",
       "    <tr>\n",
       "      <th>1</th>\n",
       "      <td>MBP</td>\n",
       "      <td>0.035884</td>\n",
       "    </tr>\n",
       "    <tr>\n",
       "      <th>2</th>\n",
       "      <td>MYOM2</td>\n",
       "      <td>0.042624</td>\n",
       "    </tr>\n",
       "    <tr>\n",
       "      <th>3</th>\n",
       "      <td>CD79A</td>\n",
       "      <td>0.043378</td>\n",
       "    </tr>\n",
       "    <tr>\n",
       "      <th>4</th>\n",
       "      <td>PIK3CB</td>\n",
       "      <td>0.055993</td>\n",
       "    </tr>\n",
       "    <tr>\n",
       "      <th>5</th>\n",
       "      <td>SCAF11</td>\n",
       "      <td>0.057077</td>\n",
       "    </tr>\n",
       "    <tr>\n",
       "      <th>6</th>\n",
       "      <td>BANK1</td>\n",
       "      <td>0.059694</td>\n",
       "    </tr>\n",
       "    <tr>\n",
       "      <th>7</th>\n",
       "      <td>UBE2W</td>\n",
       "      <td>0.083128</td>\n",
       "    </tr>\n",
       "    <tr>\n",
       "      <th>8</th>\n",
       "      <td>NR1D2</td>\n",
       "      <td>0.092613</td>\n",
       "    </tr>\n",
       "    <tr>\n",
       "      <th>9</th>\n",
       "      <td>IRAK3</td>\n",
       "      <td>0.101746</td>\n",
       "    </tr>\n",
       "    <tr>\n",
       "      <th>10</th>\n",
       "      <td>NFIC</td>\n",
       "      <td>0.111005</td>\n",
       "    </tr>\n",
       "    <tr>\n",
       "      <th>11</th>\n",
       "      <td>KRAS</td>\n",
       "      <td>0.141262</td>\n",
       "    </tr>\n",
       "    <tr>\n",
       "      <th>12</th>\n",
       "      <td>VPREB3</td>\n",
       "      <td>0.148208</td>\n",
       "    </tr>\n",
       "  </tbody>\n",
       "</table>\n",
       "</div>"
      ],
      "text/plain": [
       "        gene  importance\n",
       "0   SLC35E2A    0.027389\n",
       "1        MBP    0.035884\n",
       "2      MYOM2    0.042624\n",
       "3      CD79A    0.043378\n",
       "4     PIK3CB    0.055993\n",
       "5     SCAF11    0.057077\n",
       "6      BANK1    0.059694\n",
       "7      UBE2W    0.083128\n",
       "8      NR1D2    0.092613\n",
       "9      IRAK3    0.101746\n",
       "10      NFIC    0.111005\n",
       "11      KRAS    0.141262\n",
       "12    VPREB3    0.148208"
      ]
     },
     "execution_count": 48,
     "metadata": {},
     "output_type": "execute_result"
    }
   ],
   "source": [
    "data = { 'gene' : featurerank, 'importance' :im_value }\n",
    "df = pd.DataFrame(data)\n",
    "df.tail()\n",
    "#df.iloc[305::]['gene']\n",
    "df.to_csv('deg_module__inter_importance_dataset4.csv')\n",
    "df[df['importance']>0]"
   ]
  },
  {
   "cell_type": "code",
   "execution_count": 49,
   "metadata": {},
   "outputs": [
    {
     "name": "stdout",
     "output_type": "stream",
     "text": [
      "[0.35 0.64 0.13 0.26 0.09 0.14 0.95 0.47]\n",
      "[1, 1, 0, 1, 0, 1, 1, 0]\n",
      "[0.  0.2 0.4 0.4 1.  1. ]\n",
      "[0.         0.         0.         0.33333333 0.33333333 1.        ]\n",
      "0.8\n"
     ]
    }
   ],
   "source": [
    "print(y_score)\n",
    "print(y_test)\n",
    "print(tpr)\n",
    "print(fpr)\n",
    "print(roc_auc)\n"
   ]
  },
  {
   "cell_type": "code",
   "execution_count": null,
   "metadata": {},
   "outputs": [],
   "source": []
  }
 ],
 "metadata": {
  "kernelspec": {
   "display_name": "Python 3",
   "language": "python",
   "name": "python3"
  },
  "language_info": {
   "codemirror_mode": {
    "name": "ipython",
    "version": 3
   },
   "file_extension": ".py",
   "mimetype": "text/x-python",
   "name": "python",
   "nbconvert_exporter": "python",
   "pygments_lexer": "ipython3",
   "version": "3.9.7"
  }
 },
 "nbformat": 4,
 "nbformat_minor": 4
}
